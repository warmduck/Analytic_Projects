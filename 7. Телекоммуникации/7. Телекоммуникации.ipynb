{
 "cells": [
  {
   "cell_type": "markdown",
   "id": "1712511e",
   "metadata": {},
   "source": [
    "# Сборный проект 2: Определение потребительской лояльности среди клиентов для телекоммуникационной компании.\n"
   ]
  },
  {
   "cell_type": "markdown",
   "id": "22128b6b",
   "metadata": {},
   "source": [
    "<a id=\"num1\"></a>\n",
    "## Цели исследования"
   ]
  },
  {
   "cell_type": "markdown",
   "id": "76fad0f6",
   "metadata": {},
   "source": [
    "1. Определить текущий уровень потребительской лояльности, или NPS среди клиентов из России. \n",
    "2. Оформить результаты в визуальном представлении. "
   ]
  },
  {
   "cell_type": "markdown",
   "id": "513fe5af",
   "metadata": {},
   "source": [
    "<a id=\"num2\"></a>\n",
    "## Поставленные вопросы"
   ]
  },
  {
   "cell_type": "markdown",
   "id": "fd155a44",
   "metadata": {},
   "source": [
    "1. Как распределены участники опроса: \n",
    "    - Каких пользователей больше по возрасту;\n",
    "    - Каких пользователей больше по полу и возрасту; \n",
    "    - Каких пользователей больше: новых или старых? \n",
    "    - Пользователи из каких городов активнее участвовали в опросе?\n",
    "2. Какие группы пользователей наиболее и наименее лояльны к сервису?\n",
    "3. Какой общий NPS среди всех опрошенных?\n",
    "4. Как можно описать клиентов, которые относятся к группе cторонников?"
   ]
  },
  {
   "cell_type": "markdown",
   "id": "8515862c",
   "metadata": {},
   "source": [
    "<a id=\"num3\"></a>\n",
    "## Оглавление \n",
    "* [1. Цели исследования](#num1)\n",
    "* [2. Поставленные вопросы](#num2)\n",
    "* [3. Оглавление](#num3)\n",
    "* [4. Ключ к данным](#num4)\n",
    "* [5. Подготовка данных](#num5) \n",
    "* [6. Исследование](#num6)"
   ]
  },
  {
   "cell_type": "markdown",
   "id": "051bc03f",
   "metadata": {},
   "source": [
    "<a id=\"num4\"></a>\n",
    "## Ключ к данным "
   ]
  },
  {
   "cell_type": "markdown",
   "id": "a30902da",
   "metadata": {},
   "source": [
    "<div style=\"background-color: #f2f2f2; color: #000; font-size: 14px; padding: 10px; margin: 10px; border: solid 1px #ccc; width: 98%; height: 98%\">\n",
    "\n",
    "  \n",
    "| Название столбца | Описание |\n",
    "|------------------|----------|\n",
    "| user_id          | Идентификатор клиента |\n",
    "| lt_day           | Количество дней «жизни» клиента |\n",
    "| is_new\t       | Поле хранит информацию о том, является ли клиент новым |\n",
    "| age              | Возраст клиента в годах |\n",
    "| gender_segment   | Пол клиента |\n",
    "| os_name\t       | Тип операционной системы |\n",
    "| cpe_type_name\t   | Тип устройства |\n",
    "| country          | Страна проживания |\n",
    "| city\t           | Город проживания |\n",
    "| age_segment\t   | Возрастной сегмент |\n",
    "| traffic_segment  | Сегмент по объёму потребляемого трафика |\n",
    "| lifetime_segment | Сегмент по количеству дней «жизни» |\n",
    "| nps_score        | Оценка клиента в NPS-опросе |\n",
    "| nps_group        | Поле хранит информацию о том, к какой группе относится оценка клиента в опросе |\n",
    "\n",
    "</div>\n"
   ]
  },
  {
   "cell_type": "markdown",
   "id": "772ba3f2",
   "metadata": {},
   "source": [
    "<a id=\"num5\"></a>\n",
    "## Подготовка данных"
   ]
  },
  {
   "cell_type": "code",
   "execution_count": 1,
   "id": "fc7efa54",
   "metadata": {},
   "outputs": [],
   "source": [
    "import os\n",
    "import pandas as pd\n",
    "import numpy as np\n",
    "from IPython.display import display, HTML\n",
    "from sqlalchemy import create_engine"
   ]
  },
  {
   "cell_type": "code",
   "execution_count": 2,
   "id": "0017f8e7",
   "metadata": {},
   "outputs": [],
   "source": [
    "path_to_db_local = 'telecomm_csi.db'\n",
    "path_to_db_platform = '/datasets/telecomm_csi.db'\n",
    "path_to_db = None\n",
    "\n",
    "if os.path.exists(path_to_db_local):\n",
    "    path_to_db = path_to_db_local\n",
    "elif os.path.exists(path_to_db_platform):\n",
    "    path_to_db = path_to_db_platform\n",
    "else:\n",
    "    raise Exception('Файл с базой данных SQLite не найден!')\n",
    "\n",
    "if path_to_db:\n",
    "    engine = create_engine(f'sqlite:///{path_to_db}', echo=False)"
   ]
  },
  {
   "cell_type": "code",
   "execution_count": 3,
   "id": "84ebad43",
   "metadata": {},
   "outputs": [],
   "source": [
    "query = \"\"\"\n",
    "    WITH data_cte AS (\n",
    "    SELECT\n",
    "        u.user_id,\n",
    "        u.lt_day,\n",
    "        u.age,\n",
    "        u.gender_segment,\n",
    "        u.os_name,\n",
    "        u.cpe_type_name,\n",
    "        l.country,\n",
    "        l.city,\n",
    "        SUBSTR(a.title, 3) AS age_segment,\n",
    "        SUBSTR(t.title, 3) AS traffic_segment,\n",
    "        SUBSTR(lt.title, 3) AS lifetime_segment,\n",
    "        u.nps_score,\n",
    "        CASE WHEN u.nps_score >= 9 THEN 'сторонники'\n",
    "             WHEN u.nps_score >= 7 THEN 'нейтралы'\n",
    "             ELSE 'критики'\n",
    "        END AS nps_group,\n",
    "        CASE WHEN u.lt_day <= 365 THEN 'True' ELSE 'False' END AS is_new\n",
    "    FROM\n",
    "        user AS u\n",
    "        LEFT JOIN location AS l ON l.location_id = u.location_id\n",
    "        LEFT JOIN age_segment AS a ON a.age_gr_id = u.age_gr_id\n",
    "        LEFT JOIN traffic_segment AS t ON t.tr_gr_id = u.tr_gr_id\n",
    "        LEFT JOIN lifetime_segment AS lt ON lt.lt_gr_id = u.lt_gr_id\n",
    ")\n",
    "SELECT *\n",
    "FROM data_cte;\n",
    "\"\"\""
   ]
  },
  {
   "cell_type": "code",
   "execution_count": 4,
   "id": "3965faf2",
   "metadata": {
    "scrolled": true
   },
   "outputs": [],
   "source": [
    "df = pd.read_sql(query, engine)"
   ]
  },
  {
   "cell_type": "code",
   "execution_count": 5,
   "id": "db577377",
   "metadata": {
    "scrolled": false
   },
   "outputs": [
    {
     "data": {
      "text/html": [
       "<div>\n",
       "<style scoped>\n",
       "    .dataframe tbody tr th:only-of-type {\n",
       "        vertical-align: middle;\n",
       "    }\n",
       "\n",
       "    .dataframe tbody tr th {\n",
       "        vertical-align: top;\n",
       "    }\n",
       "\n",
       "    .dataframe thead th {\n",
       "        text-align: right;\n",
       "    }\n",
       "</style>\n",
       "<table border=\"1\" class=\"dataframe\">\n",
       "  <thead>\n",
       "    <tr style=\"text-align: right;\">\n",
       "      <th></th>\n",
       "      <th>user_id</th>\n",
       "      <th>lt_day</th>\n",
       "      <th>age</th>\n",
       "      <th>gender_segment</th>\n",
       "      <th>os_name</th>\n",
       "      <th>cpe_type_name</th>\n",
       "      <th>country</th>\n",
       "      <th>city</th>\n",
       "      <th>age_segment</th>\n",
       "      <th>traffic_segment</th>\n",
       "      <th>lifetime_segment</th>\n",
       "      <th>nps_score</th>\n",
       "      <th>nps_group</th>\n",
       "      <th>is_new</th>\n",
       "    </tr>\n",
       "  </thead>\n",
       "  <tbody>\n",
       "    <tr>\n",
       "      <th>0</th>\n",
       "      <td>A001A2</td>\n",
       "      <td>2320</td>\n",
       "      <td>45.0</td>\n",
       "      <td>1.0</td>\n",
       "      <td>ANDROID</td>\n",
       "      <td>SMARTPHONE</td>\n",
       "      <td>Россия</td>\n",
       "      <td>Уфа</td>\n",
       "      <td>45-54</td>\n",
       "      <td>1-5</td>\n",
       "      <td>36+</td>\n",
       "      <td>10</td>\n",
       "      <td>сторонники</td>\n",
       "      <td>False</td>\n",
       "    </tr>\n",
       "    <tr>\n",
       "      <th>1</th>\n",
       "      <td>A001WF</td>\n",
       "      <td>2344</td>\n",
       "      <td>53.0</td>\n",
       "      <td>0.0</td>\n",
       "      <td>ANDROID</td>\n",
       "      <td>SMARTPHONE</td>\n",
       "      <td>Россия</td>\n",
       "      <td>Киров</td>\n",
       "      <td>45-54</td>\n",
       "      <td>1-5</td>\n",
       "      <td>36+</td>\n",
       "      <td>10</td>\n",
       "      <td>сторонники</td>\n",
       "      <td>False</td>\n",
       "    </tr>\n",
       "    <tr>\n",
       "      <th>2</th>\n",
       "      <td>A003Q7</td>\n",
       "      <td>467</td>\n",
       "      <td>57.0</td>\n",
       "      <td>0.0</td>\n",
       "      <td>ANDROID</td>\n",
       "      <td>SMARTPHONE</td>\n",
       "      <td>Россия</td>\n",
       "      <td>Москва</td>\n",
       "      <td>55-64</td>\n",
       "      <td>20-25</td>\n",
       "      <td>13-24</td>\n",
       "      <td>10</td>\n",
       "      <td>сторонники</td>\n",
       "      <td>False</td>\n",
       "    </tr>\n",
       "    <tr>\n",
       "      <th>3</th>\n",
       "      <td>A004TB</td>\n",
       "      <td>4190</td>\n",
       "      <td>44.0</td>\n",
       "      <td>1.0</td>\n",
       "      <td>IOS</td>\n",
       "      <td>SMARTPHONE</td>\n",
       "      <td>Россия</td>\n",
       "      <td>РостовнаДону</td>\n",
       "      <td>35-44</td>\n",
       "      <td>0.1-1</td>\n",
       "      <td>36+</td>\n",
       "      <td>10</td>\n",
       "      <td>сторонники</td>\n",
       "      <td>False</td>\n",
       "    </tr>\n",
       "    <tr>\n",
       "      <th>4</th>\n",
       "      <td>A004XT</td>\n",
       "      <td>1163</td>\n",
       "      <td>24.0</td>\n",
       "      <td>0.0</td>\n",
       "      <td>ANDROID</td>\n",
       "      <td>SMARTPHONE</td>\n",
       "      <td>Россия</td>\n",
       "      <td>Рязань</td>\n",
       "      <td>16-24</td>\n",
       "      <td>5-10</td>\n",
       "      <td>36+</td>\n",
       "      <td>10</td>\n",
       "      <td>сторонники</td>\n",
       "      <td>False</td>\n",
       "    </tr>\n",
       "    <tr>\n",
       "      <th>5</th>\n",
       "      <td>A005O0</td>\n",
       "      <td>5501</td>\n",
       "      <td>42.0</td>\n",
       "      <td>1.0</td>\n",
       "      <td>ANDROID</td>\n",
       "      <td>SMARTPHONE</td>\n",
       "      <td>Россия</td>\n",
       "      <td>Омск</td>\n",
       "      <td>35-44</td>\n",
       "      <td>5-10</td>\n",
       "      <td>36+</td>\n",
       "      <td>6</td>\n",
       "      <td>критики</td>\n",
       "      <td>False</td>\n",
       "    </tr>\n",
       "    <tr>\n",
       "      <th>6</th>\n",
       "      <td>A0061R</td>\n",
       "      <td>1236</td>\n",
       "      <td>45.0</td>\n",
       "      <td>0.0</td>\n",
       "      <td>ANDROID</td>\n",
       "      <td>SMARTPHONE</td>\n",
       "      <td>Россия</td>\n",
       "      <td>Уфа</td>\n",
       "      <td>45-54</td>\n",
       "      <td>10-15</td>\n",
       "      <td>36+</td>\n",
       "      <td>10</td>\n",
       "      <td>сторонники</td>\n",
       "      <td>False</td>\n",
       "    </tr>\n",
       "    <tr>\n",
       "      <th>7</th>\n",
       "      <td>A009KS</td>\n",
       "      <td>313</td>\n",
       "      <td>35.0</td>\n",
       "      <td>0.0</td>\n",
       "      <td>ANDROID</td>\n",
       "      <td>SMARTPHONE</td>\n",
       "      <td>Россия</td>\n",
       "      <td>Москва</td>\n",
       "      <td>35-44</td>\n",
       "      <td>45-50</td>\n",
       "      <td>7-12</td>\n",
       "      <td>10</td>\n",
       "      <td>сторонники</td>\n",
       "      <td>True</td>\n",
       "    </tr>\n",
       "    <tr>\n",
       "      <th>8</th>\n",
       "      <td>A00AES</td>\n",
       "      <td>3238</td>\n",
       "      <td>36.0</td>\n",
       "      <td>1.0</td>\n",
       "      <td>ANDROID</td>\n",
       "      <td>SMARTPHONE</td>\n",
       "      <td>Россия</td>\n",
       "      <td>СанктПетербург</td>\n",
       "      <td>35-44</td>\n",
       "      <td>1-5</td>\n",
       "      <td>36+</td>\n",
       "      <td>10</td>\n",
       "      <td>сторонники</td>\n",
       "      <td>False</td>\n",
       "    </tr>\n",
       "    <tr>\n",
       "      <th>9</th>\n",
       "      <td>A00F70</td>\n",
       "      <td>4479</td>\n",
       "      <td>54.0</td>\n",
       "      <td>1.0</td>\n",
       "      <td>ANDROID</td>\n",
       "      <td>SMARTPHONE</td>\n",
       "      <td>Россия</td>\n",
       "      <td>Волгоград</td>\n",
       "      <td>45-54</td>\n",
       "      <td>15-20</td>\n",
       "      <td>36+</td>\n",
       "      <td>9</td>\n",
       "      <td>сторонники</td>\n",
       "      <td>False</td>\n",
       "    </tr>\n",
       "  </tbody>\n",
       "</table>\n",
       "</div>"
      ],
      "text/plain": [
       "  user_id  lt_day   age  gender_segment  os_name cpe_type_name country  \\\n",
       "0  A001A2    2320  45.0             1.0  ANDROID    SMARTPHONE  Россия   \n",
       "1  A001WF    2344  53.0             0.0  ANDROID    SMARTPHONE  Россия   \n",
       "2  A003Q7     467  57.0             0.0  ANDROID    SMARTPHONE  Россия   \n",
       "3  A004TB    4190  44.0             1.0      IOS    SMARTPHONE  Россия   \n",
       "4  A004XT    1163  24.0             0.0  ANDROID    SMARTPHONE  Россия   \n",
       "5  A005O0    5501  42.0             1.0  ANDROID    SMARTPHONE  Россия   \n",
       "6  A0061R    1236  45.0             0.0  ANDROID    SMARTPHONE  Россия   \n",
       "7  A009KS     313  35.0             0.0  ANDROID    SMARTPHONE  Россия   \n",
       "8  A00AES    3238  36.0             1.0  ANDROID    SMARTPHONE  Россия   \n",
       "9  A00F70    4479  54.0             1.0  ANDROID    SMARTPHONE  Россия   \n",
       "\n",
       "             city age_segment traffic_segment lifetime_segment  nps_score  \\\n",
       "0             Уфа       45-54             1-5              36+         10   \n",
       "1           Киров       45-54             1-5              36+         10   \n",
       "2          Москва       55-64           20-25            13-24         10   \n",
       "3    РостовнаДону       35-44           0.1-1              36+         10   \n",
       "4          Рязань       16-24            5-10              36+         10   \n",
       "5            Омск       35-44            5-10              36+          6   \n",
       "6             Уфа       45-54           10-15              36+         10   \n",
       "7          Москва       35-44           45-50             7-12         10   \n",
       "8  СанктПетербург       35-44             1-5              36+         10   \n",
       "9       Волгоград       45-54           15-20              36+          9   \n",
       "\n",
       "    nps_group is_new  \n",
       "0  сторонники  False  \n",
       "1  сторонники  False  \n",
       "2  сторонники  False  \n",
       "3  сторонники  False  \n",
       "4  сторонники  False  \n",
       "5     критики  False  \n",
       "6  сторонники  False  \n",
       "7  сторонники   True  \n",
       "8  сторонники  False  \n",
       "9  сторонники  False  "
      ]
     },
     "execution_count": 5,
     "metadata": {},
     "output_type": "execute_result"
    }
   ],
   "source": [
    "df.head(10)"
   ]
  },
  {
   "cell_type": "code",
   "execution_count": 6,
   "id": "9db04858",
   "metadata": {},
   "outputs": [],
   "source": [
    "df.to_csv('telecomm_csi_14_columns_v2.csv', index=False)"
   ]
  },
  {
   "cell_type": "markdown",
   "id": "8a917db6",
   "metadata": {},
   "source": [
    "<a id=\"num6\"></a>\n",
    "## Исследование"
   ]
  },
  {
   "cell_type": "markdown",
   "id": "10a09ac9",
   "metadata": {},
   "source": [
    "В ходе исследования была оформлена презентация через Tableau. "
   ]
  },
  {
   "cell_type": "markdown",
   "id": "0518808d",
   "metadata": {},
   "source": [
    "<a href=\"https://public.tableau.com/app/profile/a.ye5315/viz/2_16879751828050/sheet19?publish=yes\">Сборный проект 2: Потребительская лояльность для телекоммуникационной компании.</a>"
   ]
  }
 ],
 "metadata": {
  "ExecuteTimeLog": [
   {
    "duration": 586,
    "start_time": "2023-06-27T17:18:16.041Z"
   },
   {
    "duration": 134,
    "start_time": "2023-06-27T17:18:17.174Z"
   },
   {
    "duration": 3,
    "start_time": "2023-06-27T17:18:17.891Z"
   },
   {
    "duration": 5086,
    "start_time": "2023-06-27T17:18:18.589Z"
   },
   {
    "duration": 3663,
    "start_time": "2023-06-27T17:18:23.677Z"
   },
   {
    "duration": 3,
    "start_time": "2023-06-27T17:18:45.818Z"
   },
   {
    "duration": 7300,
    "start_time": "2023-06-27T17:18:48.310Z"
   },
   {
    "duration": 7678,
    "start_time": "2023-06-27T17:19:32.133Z"
   },
   {
    "duration": 584,
    "start_time": "2023-06-27T17:35:43.871Z"
   },
   {
    "duration": 76,
    "start_time": "2023-06-27T17:35:44.463Z"
   },
   {
    "duration": 3,
    "start_time": "2023-06-27T17:35:44.541Z"
   },
   {
    "duration": 110,
    "start_time": "2023-06-27T17:35:44.546Z"
   },
   {
    "duration": 0,
    "start_time": "2023-06-27T17:35:44.663Z"
   },
   {
    "duration": 0,
    "start_time": "2023-06-27T17:35:44.664Z"
   },
   {
    "duration": 7764,
    "start_time": "2023-06-27T17:35:58.061Z"
   },
   {
    "duration": 2320,
    "start_time": "2023-06-27T17:36:07.707Z"
   },
   {
    "duration": 3,
    "start_time": "2023-06-27T17:36:29.112Z"
   },
   {
    "duration": 5101,
    "start_time": "2023-06-27T17:36:30.242Z"
   },
   {
    "duration": 96,
    "start_time": "2023-06-27T17:36:35.346Z"
   },
   {
    "duration": 15,
    "start_time": "2023-06-27T17:36:55.708Z"
   },
   {
    "duration": 51,
    "start_time": "2023-06-29T12:58:26.788Z"
   },
   {
    "duration": 524,
    "start_time": "2023-06-29T12:58:29.646Z"
   },
   {
    "duration": 249,
    "start_time": "2023-06-29T12:58:30.172Z"
   },
   {
    "duration": 3,
    "start_time": "2023-06-29T12:58:30.424Z"
   },
   {
    "duration": 5297,
    "start_time": "2023-06-29T12:58:30.731Z"
   },
   {
    "duration": 95,
    "start_time": "2023-06-29T12:58:36.030Z"
   },
   {
    "duration": 3,
    "start_time": "2023-06-29T13:34:08.617Z"
   },
   {
    "duration": 762,
    "start_time": "2023-06-29T13:34:56.978Z"
   },
   {
    "duration": 610,
    "start_time": "2023-06-29T13:50:56.024Z"
   },
   {
    "duration": 433,
    "start_time": "2023-06-29T13:50:56.637Z"
   },
   {
    "duration": 3,
    "start_time": "2023-06-29T13:50:57.072Z"
   },
   {
    "duration": 5273,
    "start_time": "2023-06-29T13:50:57.076Z"
   },
   {
    "duration": 104,
    "start_time": "2023-06-29T13:51:02.352Z"
   },
   {
    "duration": 23,
    "start_time": "2023-06-29T13:51:02.458Z"
   },
   {
    "duration": 6197,
    "start_time": "2023-06-29T13:51:02.483Z"
   },
   {
    "duration": 472,
    "start_time": "2023-06-30T05:29:54.475Z"
   },
   {
    "duration": 12,
    "start_time": "2023-06-30T05:29:54.948Z"
   },
   {
    "duration": 10,
    "start_time": "2023-06-30T05:29:54.962Z"
   },
   {
    "duration": 4482,
    "start_time": "2023-06-30T05:29:54.974Z"
   },
   {
    "duration": 74,
    "start_time": "2023-06-30T05:29:59.457Z"
   },
   {
    "duration": 17,
    "start_time": "2023-06-30T05:29:59.533Z"
   },
   {
    "duration": 4347,
    "start_time": "2023-06-30T05:29:59.552Z"
   },
   {
    "duration": 642,
    "start_time": "2023-06-30T11:02:11.300Z"
   },
   {
    "duration": 171,
    "start_time": "2023-06-30T11:02:13.351Z"
   },
   {
    "duration": 6,
    "start_time": "2023-06-30T11:02:14.733Z"
   },
   {
    "duration": 9015,
    "start_time": "2023-06-30T11:02:17.030Z"
   },
   {
    "duration": 59,
    "start_time": "2023-06-30T11:02:36.849Z"
   },
   {
    "duration": 11,
    "start_time": "2023-06-30T11:02:58.831Z"
   },
   {
    "duration": 8020,
    "start_time": "2023-06-30T11:03:00.704Z"
   },
   {
    "duration": 17,
    "start_time": "2023-06-30T11:03:09.834Z"
   },
   {
    "duration": 598,
    "start_time": "2023-06-30T11:03:24.408Z"
   },
   {
    "duration": 3,
    "start_time": "2023-06-30T11:04:15.435Z"
   },
   {
    "duration": 7828,
    "start_time": "2023-06-30T11:04:20.476Z"
   },
   {
    "duration": 49,
    "start_time": "2023-06-30T11:04:29.684Z"
   },
   {
    "duration": 6,
    "start_time": "2023-06-30T11:05:11.426Z"
   },
   {
    "duration": 8054,
    "start_time": "2023-06-30T11:05:13.276Z"
   },
   {
    "duration": 4,
    "start_time": "2023-06-30T11:05:21.334Z"
   },
   {
    "duration": 40,
    "start_time": "2023-06-30T11:05:21.339Z"
   },
   {
    "duration": 12,
    "start_time": "2023-06-30T11:06:05.077Z"
   },
   {
    "duration": 8513,
    "start_time": "2023-06-30T11:06:05.498Z"
   },
   {
    "duration": 6,
    "start_time": "2023-06-30T11:06:14.013Z"
   },
   {
    "duration": 76,
    "start_time": "2023-06-30T11:06:14.021Z"
   },
   {
    "duration": 3,
    "start_time": "2023-06-30T11:06:32.232Z"
   },
   {
    "duration": 8601,
    "start_time": "2023-06-30T11:06:33.616Z"
   },
   {
    "duration": 29,
    "start_time": "2023-06-30T11:06:42.219Z"
   },
   {
    "duration": 39,
    "start_time": "2023-06-30T11:06:51.249Z"
   },
   {
    "duration": 25,
    "start_time": "2023-06-30T11:07:02.637Z"
   },
   {
    "duration": 672,
    "start_time": "2023-06-30T11:11:31.540Z"
   },
   {
    "duration": 218,
    "start_time": "2023-06-30T11:11:54.352Z"
   },
   {
    "duration": 612,
    "start_time": "2023-06-30T11:12:16.356Z"
   },
   {
    "duration": 553,
    "start_time": "2023-06-30T11:14:27.817Z"
   },
   {
    "duration": 477,
    "start_time": "2023-06-30T11:14:37.431Z"
   },
   {
    "duration": 4,
    "start_time": "2023-06-30T11:15:18.517Z"
   },
   {
    "duration": 12,
    "start_time": "2023-06-30T11:15:48.576Z"
   },
   {
    "duration": 5,
    "start_time": "2023-06-30T11:16:13.085Z"
   },
   {
    "duration": 2,
    "start_time": "2023-06-30T11:16:28.547Z"
   },
   {
    "duration": 1095,
    "start_time": "2023-06-30T11:16:30.244Z"
   },
   {
    "duration": 3,
    "start_time": "2023-06-30T11:18:12.841Z"
   },
   {
    "duration": 1011,
    "start_time": "2023-06-30T11:18:15.726Z"
   },
   {
    "duration": 4,
    "start_time": "2023-06-30T11:20:36.012Z"
   },
   {
    "duration": 10474,
    "start_time": "2023-06-30T11:20:38.817Z"
   },
   {
    "duration": 24,
    "start_time": "2023-06-30T11:20:51.314Z"
   },
   {
    "duration": 4,
    "start_time": "2023-06-30T11:21:44.908Z"
   },
   {
    "duration": 8112,
    "start_time": "2023-06-30T11:21:48.303Z"
   },
   {
    "duration": 27,
    "start_time": "2023-06-30T11:22:09.185Z"
   },
   {
    "duration": 7217,
    "start_time": "2023-06-30T11:22:38.103Z"
   },
   {
    "duration": 467,
    "start_time": "2023-07-01T06:15:38.465Z"
   },
   {
    "duration": 9,
    "start_time": "2023-07-01T06:15:38.933Z"
   },
   {
    "duration": 16,
    "start_time": "2023-07-01T06:15:38.943Z"
   },
   {
    "duration": 5094,
    "start_time": "2023-07-01T06:15:38.961Z"
   },
   {
    "duration": 21,
    "start_time": "2023-07-01T06:15:44.056Z"
   },
   {
    "duration": 3887,
    "start_time": "2023-07-01T06:15:44.079Z"
   }
  ],
  "kernelspec": {
   "display_name": "Python 3 (ipykernel)",
   "language": "python",
   "name": "python3"
  },
  "language_info": {
   "codemirror_mode": {
    "name": "ipython",
    "version": 3
   },
   "file_extension": ".py",
   "mimetype": "text/x-python",
   "name": "python",
   "nbconvert_exporter": "python",
   "pygments_lexer": "ipython3",
   "version": "3.10.9"
  },
  "toc": {
   "base_numbering": 1,
   "nav_menu": {},
   "number_sections": true,
   "sideBar": true,
   "skip_h1_title": true,
   "title_cell": "Table of Contents",
   "title_sidebar": "Contents",
   "toc_cell": false,
   "toc_position": {},
   "toc_section_display": true,
   "toc_window_display": false
  }
 },
 "nbformat": 4,
 "nbformat_minor": 5
}
