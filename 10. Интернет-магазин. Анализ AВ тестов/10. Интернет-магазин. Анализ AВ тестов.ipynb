{
 "cells": [
  {
   "cell_type": "markdown",
   "id": "ea9c6f2e",
   "metadata": {},
   "source": [
    "# Проект: Исследование гипотез интернет-магазина. Анализ A/B тестов."
   ]
  },
  {
   "cell_type": "markdown",
   "id": "525caa56",
   "metadata": {},
   "source": [
    "<a id=\"num1\"></a>\n",
    "## Цели"
   ]
  },
  {
   "cell_type": "markdown",
   "id": "6db9bc5a",
   "metadata": {},
   "source": [
    "Был подготовлен список гипотез для увеличения выручки, необходимо проверить его с помощью фреймворков ICE и RICE, и определить приоритетный и перспективные. \n",
    "\n",
    "Были проведены A/B-тесты, следует проанализировать результаты и сделать выводы. "
   ]
  },
  {
   "cell_type": "markdown",
   "id": "deacad54",
   "metadata": {},
   "source": [
    "<a id=\"num2\"></a>\n",
    "## Вопросы"
   ]
  },
  {
   "cell_type": "markdown",
   "id": "04bf8b12",
   "metadata": {},
   "source": [
    "1. __Применить фреймворк ICE и RICE для приоритизации гипотез.__\n",
    "    - Исследовать изменения и сделайте выводы. "
   ]
  },
  {
   "cell_type": "markdown",
   "id": "c1c1f76a",
   "metadata": {},
   "source": [
    "2. __Провести A/B-тест:__\n",
    "    - Построить график кумулятивной выручки по группам. \n",
    "    - Построить график кумулятивного среднего чека по группам. \n",
    "    - Построить график относительного изменения кумулятивного среднего чека группы B к группе A. \n",
    "    - Построить график кумулятивного среднего количества заказов на посетителя по группам.\n",
    "    - Построить график относительного изменения кумулятивного среднего количества заказов на посетителя группы B к группе A.\n",
    "    - Построить точечный график количества заказов по пользователям. \n",
    "    - Определить 95-й и 99-й перцентили количества заказов на пользователя.\n",
    "    - Построить точечный график стоимостей заказов. \n",
    "    - Определить 95-й и 99-й перцентили стоимости заказов. \n",
    "    - Определить статистическую значимость различий в среднем количестве заказов на посетителя между группами по «сырым» данным. \n",
    "    - Определить статистическую значимость различий в среднем чеке заказа между группами по «сырым» данным. \n",
    "    - Определить статистическую значимость различий в среднем количестве заказов на посетителя между группами по «очищенным» данным. \n",
    "    - Определить статистическую значимость различий в среднем чеке заказа между группами по «очищенным» данным."
   ]
  },
  {
   "cell_type": "markdown",
   "id": "485c8b40",
   "metadata": {},
   "source": [
    "3. __Принять решение по результатам теста.__"
   ]
  },
  {
   "cell_type": "markdown",
   "id": "0993e9f7",
   "metadata": {},
   "source": [
    "<a id=\"num3\"></a>\n",
    "## Оглавление \n",
    "* [1. Цели исследования](#num1)\n",
    "* [2. Поставленные вопросы](#num2)\n",
    "* [3. Оглавление](#num3)\n",
    "* [4. Ключ к данным](#num4)\n",
    "* [5. Подготовка данных](#num5)\n",
    "    * [5.1. Библиотеки](#num51)\n",
    "    * [5.2. Загрузка данных](#num52)\n",
    "    * [5.3. Функции](#num53)\n",
    "    * [5.4. Ознакомление с данными](#num54)\n",
    "    * [5.5. Предобработка данных](#num55)\n",
    "        * [5.5.1. Приведение названий к единому виду](#num551)\n",
    "        * [5.5.2. Проверка на уникальность](#num552)\n",
    "        * [5.5.3. Проверка данных](#num553)\n",
    "            * [5.5.3.1. hypohtesis](#num5531)\n",
    "            * [5.5.3.2 orders](#num5531)\n",
    "            * [5.5.3.3 visitors](#num5533)\n",
    "* [6. Исследование](#num6)\n",
    "    * [6.1. Приоритизация гипотез](#num61)\n",
    "        * [6.1.1. ICE](#num61)\n",
    "        * [6.1.2. RICE](#num61)\n",
    "        * [6.1.3. Анализ результатов между ICE и RICE](#num61)\n",
    "* [7. Анализ A/B теста](#num7) \n",
    "    * [7.1. График кумулятивной выручки по группам](#num71)\n",
    "    * [7.2. График кумулятивного среднего чека по группам](#num72)\n",
    "    * [7.3. График относительного изменения кумулятивного среднего чека группы B к группе A](#num73)\n",
    "    * [7.4. График кумулятивного среднего количества заказов на посетителя по группам](#num74)\n",
    "    * [7.5. График относительного изменения кумулятивного среднего количества заказов на посетителя группы B к группе A](#num75)\n",
    "    * [7.6. График количества заказов по пользователям](#num76)\n",
    "    * [7.7. Перцентили количества заказов на пользователя](#num77)\n",
    "    * [7.8. График стоимостей заказов](#num78)\n",
    "    * [7.9. Перцентили стоимости заказов](#num79)\n",
    "    * [7.10. Cтатистическая значимость различий в среднем количестве заказов на посетителя между группами по «сырым» данным](#num710)\n",
    "    * [7.11. Cтатистическая значимость различий в среднем чеке заказа между группами по «сырым» данным](#num711)\n",
    "    * [7.12. Cтатистическая значимость различий в среднем количестве заказов на посетителя между группами по «очищенным» данным](#num712)\n",
    "    [7.13 Cтатистическую значимость различий в среднем чеке заказа между группами по «очищенным» данным](#num713)\n",
    "* [8. Выводы](#num8)  \n",
    "* [9. Рекомендации](#num9)   \n",
    "* [10. Дополнительная информация](#num10)   \n",
    "    * [10.1. Сноски](#num101)"
   ]
  },
  {
   "cell_type": "markdown",
   "id": "0acf9c96",
   "metadata": {},
   "source": [
    "<a id=\"num4\"></a>\n",
    "## Ключ к данным "
   ]
  },
  {
   "cell_type": "markdown",
   "id": "1b7aeabd",
   "metadata": {},
   "source": [
    "Таблица ``hypothesis`` — информация о предлагаемых гипотезах. "
   ]
  },
  {
   "cell_type": "markdown",
   "id": "4e37d597",
   "metadata": {},
   "source": [
    "Таблица ``orders`` — информация о заказах. "
   ]
  },
  {
   "cell_type": "markdown",
   "id": "17e0e35d",
   "metadata": {},
   "source": [
    "Таблица ``visitors`` —  информация о пользователях в указанную дату. "
   ]
  },
  {
   "cell_type": "markdown",
   "id": "b3619a20",
   "metadata": {},
   "source": [
    "<a id=\"num5\"></a>\n",
    "## Подготовка данных"
   ]
  },
  {
   "cell_type": "markdown",
   "id": "374cd555",
   "metadata": {},
   "source": [
    "<a id=\"num51\"></a>\n",
    "### Библиотеки"
   ]
  },
  {
   "cell_type": "code",
   "execution_count": 1,
   "id": "91b0a63a",
   "metadata": {},
   "outputs": [],
   "source": [
    "import pandas as pd\n",
    "import plotly.express as px\n",
    "import numpy as np\n",
    "import plotly.graph_objects as go\n",
    "from scipy import stats as st\n",
    "import scipy.stats as stats"
   ]
  },
  {
   "cell_type": "markdown",
   "id": "d6703f65",
   "metadata": {},
   "source": [
    "<a id=\"num52\"></a>\n",
    "### Загрузка данных"
   ]
  },
  {
   "cell_type": "code",
   "execution_count": 2,
   "id": "a08a9b1c",
   "metadata": {},
   "outputs": [],
   "source": [
    "try:\n",
    "    hypothesis = pd.read_csv('/datasets/hypothesis.csv') \n",
    "    orders = pd.read_csv('/datasets/orders.csv', parse_dates=['date']) \n",
    "    visitors = pd.read_csv('/datasets/visitors.csv', parse_dates=['date']) \n",
    "except:\n",
    "    display('No data')"
   ]
  },
  {
   "cell_type": "markdown",
   "id": "36bdfd62",
   "metadata": {},
   "source": [
    "<a id=\"num53\"></a>\n",
    "### Функции"
   ]
  },
  {
   "cell_type": "markdown",
   "id": "1ddc1b0c",
   "metadata": {},
   "source": [
    "Функция ``data_head_desc_info`` отображает основную информацию о имеющихся данных из указанного файла. \n",
    "\n",
    "*data_head_desc_info(датафрейм)*."
   ]
  },
  {
   "cell_type": "code",
   "execution_count": 3,
   "id": "445d9b40",
   "metadata": {},
   "outputs": [],
   "source": [
    "def data_head_desc_info(data):\n",
    "    try:\n",
    "        print('\\033[1m'+'1. Первые пять строк данных:'+'\\033[0m')\n",
    "        display(data.head(5))\n",
    "        print('\\033[1m'+'2. Описание данных:'+'\\033[0m')\n",
    "        display(data.describe())\n",
    "        print('\\033[1m'+'3. Общая информацию о датафрейме'+'\\033[0m')\n",
    "        display(data.info())\n",
    "        print('\\033[1m'+'4. Графическое отображение количества пропусков'+'\\033[0m')\n",
    "        display((data.isna().mean() * 100).sort_values().to_frame().style.format(\"{:.2f}\", na_rep=\"\").background_gradient('Blues'))\n",
    "        print('\\033[1m'+'5. Процент пропусков'+'\\033[0m')\n",
    "        display(round (1 - data.count()/data.shape[0], 2) * 100)\n",
    "    except:\n",
    "        return 'Проверьте параметры'"
   ]
  },
  {
   "cell_type": "markdown",
   "id": "c1297b39",
   "metadata": {},
   "source": [
    "Функция ``data_isna_nuniq`` для получения короткой информации по определенным столбцам.  \n",
    "\n",
    "*data_isna_nuniq (столбец по которому получаем информацию по пропускам и уникальным значениям)*."
   ]
  },
  {
   "cell_type": "code",
   "execution_count": 4,
   "id": "11c92deb",
   "metadata": {},
   "outputs": [],
   "source": [
    "def data_isna_nuniq(data):\n",
    "    try:\n",
    "        for column in data.columns:\n",
    "            print('Столбец:', column)\n",
    "            print('Количество пропусков:', data[column].isna().sum())\n",
    "            print('Количество уникальных значений:', data[column].nunique())\n",
    "    except Exception as e:\n",
    "        return 'Проверьте параметры: {}'.format(str(e))"
   ]
  },
  {
   "cell_type": "markdown",
   "id": "ce78e8c1",
   "metadata": {},
   "source": [
    "Функция ``lower`` для приведения названий столбцов к единому виду.  \n",
    "\n",
    "*lower (датафрейм)*."
   ]
  },
  {
   "cell_type": "code",
   "execution_count": 5,
   "id": "e9498add",
   "metadata": {},
   "outputs": [],
   "source": [
    "def lower(data):\n",
    "    try:\n",
    "        data.columns = [x.lower().replace(' ', '_') for x in data.columns.values]\n",
    "        display(data.head(0))\n",
    "    except:\n",
    "        return 'Проверьте параметры'"
   ]
  },
  {
   "cell_type": "markdown",
   "id": "77caf803",
   "metadata": {},
   "source": [
    "Палитра ``colors``: зададим предпочтительные для оформления цвета."
   ]
  },
  {
   "cell_type": "code",
   "execution_count": 6,
   "id": "3460e287",
   "metadata": {},
   "outputs": [],
   "source": [
    "colors = (['#063751','#08527A',\n",
    "           '#0B6DA2','#0E89CB',\n",
    "           '#15A3EF','#3EB3F2',\n",
    "           '#66C3F4','#8FD3F7',\n",
    "           '#B7E3FA','#B7E3FA',\n",
    "           '#8FD3F7','#66C3F4',\n",
    "           '#3EB3F2','#15A3EF',\n",
    "           '#0E89CB','#0B6DA2',\n",
    "           '#08527A','#063751'])"
   ]
  },
  {
   "cell_type": "markdown",
   "id": "e4853a6c",
   "metadata": {},
   "source": [
    "Функция ``uniq`` для проверки датафрейма orders и производных от него на уникальность пользователей в группах теста.  \n",
    "\n",
    "*uniq (датафрейм)*."
   ]
  },
  {
   "cell_type": "code",
   "execution_count": 7,
   "id": "6f467846",
   "metadata": {},
   "outputs": [],
   "source": [
    "def uniq(data):\n",
    "    users_a = data.query('group == \"A\"')['visitorid']\n",
    "    users_b = data.query('group == \"B\"')['visitorid']\n",
    "    matching_elements = users_b[users_b.isin(users_a)]\n",
    "    display(matching_elements.nunique())\n",
    "    return(matching_elements)"
   ]
  },
  {
   "cell_type": "markdown",
   "id": "71f1a595",
   "metadata": {},
   "source": [
    "Функция ``cumulative`` для отображения графика по переданным данным. Используется в куммулятивных графиках \n",
    "\n",
    "*cumulative (ось х для первого элемента, ось у для первого элемента, ось х для второго элемента(при наличии), ось у для второго элемента(при наличии), первая линия значений(прерывающаяся), вторая линия значений(прерывающаяся))*."
   ]
  },
  {
   "cell_type": "code",
   "execution_count": 8,
   "id": "f8b753de",
   "metadata": {},
   "outputs": [],
   "source": [
    "def cumulative(a_x_axis, a_y_axis, b_x_axis=None, b_y_axis=None, axhline=None, one_y=None, two_y=None, y_name=None, x_name=None):\n",
    "    trace_a = go.Scatter(\n",
    "        x=a_x_axis,\n",
    "        y=a_y_axis,\n",
    "        mode='lines',\n",
    "        name='Группа A',\n",
    "        line=dict(color='blue'))\n",
    "\n",
    "    fig = go.Figure(data=[trace_a])\n",
    "\n",
    "    if b_x_axis is not None and b_y_axis is not None:\n",
    "        trace_b = go.Scatter(\n",
    "            x=b_x_axis,\n",
    "            y=b_y_axis,\n",
    "            mode='lines',\n",
    "            name='Группа B',\n",
    "            line=dict(color='red'))\n",
    "        fig.add_trace(trace_b)\n",
    "    if axhline=='one' and one_y is not None:\n",
    "        fig.add_shape(\n",
    "            type=\"line\",\n",
    "            x0=min(a_x_axis),  \n",
    "            y0=one_y, \n",
    "            x1=max(a_x_axis), \n",
    "            y1=one_y,  \n",
    "            line=dict(color=\"black\", dash=\"dash\")  # Цвет и стиль линии \n",
    "        )\n",
    "    if axhline == 'two' and one_y is not None and two_y is not None:\n",
    "        fig.add_shape(\n",
    "            type=\"line\",\n",
    "            x0=min(a_x_axis),  \n",
    "            y0=one_y,  \n",
    "            x1=max(a_x_axis),  \n",
    "            y1=one_y,  \n",
    "            line=dict(color=\"black\", dash=\"dash\")  # Цвет и стиль линии \n",
    "        )\n",
    "        fig.add_shape(\n",
    "            type=\"line\",\n",
    "            x0=min(a_x_axis), \n",
    "            y0=two_y, \n",
    "            x1=max(a_x_axis),  \n",
    "            y1=two_y,  \n",
    "            line=dict(color=\"black\", dash=\"dash\")  # Цвет и стиль линии \n",
    "        )\n",
    "\n",
    "    fig.update_layout(xaxis_title=x_name, yaxis_title=y_name,\n",
    "                  plot_bgcolor='AliceBlue',\n",
    "                  margin={\"r\": 0, \"t\": 50, \"l\": 0, \"b\": 50})\n",
    "    fig.show()\n",
    "    return"
   ]
  },
  {
   "cell_type": "markdown",
   "id": "cada9607",
   "metadata": {},
   "source": [
    "<a id=\"num54\"></a>\n",
    "### Ознакомление с данными"
   ]
  },
  {
   "cell_type": "markdown",
   "id": "f5ec9b6b",
   "metadata": {},
   "source": [
    "Для исследования предоставлены данные в трех таблицах: ``hypothesis``, ``orders``, ``visitors``. Получим первичную информацию о них. "
   ]
  },
  {
   "cell_type": "markdown",
   "id": "8690c457",
   "metadata": {},
   "source": [
    "Получим данные о ``hypothesis``."
   ]
  },
  {
   "cell_type": "code",
   "execution_count": 9,
   "id": "2bb74587",
   "metadata": {},
   "outputs": [],
   "source": [
    "data_head_desc_info(hypothesis)"
   ]
  },
  {
   "cell_type": "code",
   "execution_count": 10,
   "id": "2390a9d4",
   "metadata": {},
   "outputs": [],
   "source": [
    "pd.set_option('max_colwidth', 100)\n",
    "hypothesis"
   ]
  },
  {
   "cell_type": "markdown",
   "id": "c828a8f0",
   "metadata": {},
   "source": [
    "При ознакомлении с данными проблем в таблице ``hypothesis`` не выявлено, типы данных представлены верно, пропусков нет. "
   ]
  },
  {
   "cell_type": "markdown",
   "id": "0273046c",
   "metadata": {},
   "source": [
    "Получим данные о ``orders``."
   ]
  },
  {
   "cell_type": "code",
   "execution_count": 11,
   "id": "2c459ce2",
   "metadata": {},
   "outputs": [],
   "source": [
    "data_head_desc_info(orders)"
   ]
  },
  {
   "cell_type": "markdown",
   "id": "07e58360",
   "metadata": {},
   "source": [
    "При ознакомлении с данными проблем в таблице ``orders`` не выявлено, типы данных представлены верно, пропусков нет. "
   ]
  },
  {
   "cell_type": "markdown",
   "id": "1b4d7ef2",
   "metadata": {},
   "source": [
    "Получим данные о ``visitors``."
   ]
  },
  {
   "cell_type": "code",
   "execution_count": 12,
   "id": "6dadb814",
   "metadata": {},
   "outputs": [],
   "source": [
    "data_head_desc_info(visitors)"
   ]
  },
  {
   "cell_type": "markdown",
   "id": "3563a779",
   "metadata": {},
   "source": [
    "При ознакомлении с данными проблем в таблице ``visitors`` не выявлено, типы данных представлены верно, пропусков нет. "
   ]
  },
  {
   "cell_type": "markdown",
   "id": "588df83e",
   "metadata": {},
   "source": [
    "Для работы представлены три таблицы ``hypothesis``, ``orders``, ``visitors``. \n",
    "\n",
    "В ``hypothesis`` 9 строк, 5 столбцов. \n",
    "\n",
    "В ``orders`` 1197 строк, 5 столбцов.\n",
    "\n",
    "В ``visitors`` 62 строки, 3 столбца. \n",
    "\n",
    "Таблицы полные, пропусков нет. Типы данных у всех трех таблиц верные. \n",
    "\n",
    "В ``hypothesis`` столбцы именованы не корректно, это исправим далее. \n"
   ]
  },
  {
   "cell_type": "markdown",
   "id": "70e4723c",
   "metadata": {},
   "source": [
    "<a id=\"num55\"></a>\n",
    "### Предобработка данных"
   ]
  },
  {
   "cell_type": "markdown",
   "id": "7885ec14",
   "metadata": {},
   "source": [
    "<a id=\"num551\"></a>\n",
    "#### Приведение названий к единому виду"
   ]
  },
  {
   "cell_type": "markdown",
   "id": "cdf8f29b",
   "metadata": {},
   "source": [
    "В таблице ``hypothesis`` столбцы имеют не верные названия, изменим их. Также проверим остальные таблицы, чтобы полностью исключить иные варианты написания."
   ]
  },
  {
   "cell_type": "code",
   "execution_count": 13,
   "id": "ace8be37",
   "metadata": {},
   "outputs": [],
   "source": [
    "lower(hypothesis)"
   ]
  },
  {
   "cell_type": "code",
   "execution_count": 14,
   "id": "172bba8d",
   "metadata": {},
   "outputs": [],
   "source": [
    "lower(orders)"
   ]
  },
  {
   "cell_type": "code",
   "execution_count": null,
   "id": "87070cc0",
   "metadata": {},
   "outputs": [],
   "source": [
    "lower(visitors)"
   ]
  },
  {
   "cell_type": "markdown",
   "id": "8046943b",
   "metadata": {},
   "source": [
    "Теперь все таблицы имеют желаемый вид названий. "
   ]
  },
  {
   "cell_type": "markdown",
   "id": "a1e632a0",
   "metadata": {},
   "source": [
    "<a id=\"num552\"></a>\n",
    "#### Проверка на уникальность"
   ]
  },
  {
   "cell_type": "code",
   "execution_count": 15,
   "id": "3db2c5f8",
   "metadata": {
    "scrolled": true
   },
   "outputs": [],
   "source": [
    "data_isna_nuniq(hypothesis)"
   ]
  },
  {
   "cell_type": "markdown",
   "id": "613746e2",
   "metadata": {},
   "source": [
    "Всего в таблице представлено ``9`` уникальных гипотез ``hypothesis``. \n",
    "\n",
    "Охват пользователей представлен по 10-балльной шкале, в таблице уникальных значений — ``9`` от 1 до 10, столбец ``reach``. \n",
    "\n",
    "Влияние на пользователей представлено по 10-балльной шкале, в таблице уникальных значений ``7`` от 1 до 10, столбец ``impact``.\n",
    "\n",
    "Уверенность в гипотезе представлена по 10-балльной шкале, в таблице уникальных значений ``7`` от 1 до 9, столбец ``confidence``.\n",
    "\n",
    "Затраты ресурсов на проверку гипотезы представлены по 10-балльной шкале, в таблице уникальных значений ``6`` от 1 до 10, столбец ``efforts``."
   ]
  },
  {
   "cell_type": "code",
   "execution_count": 16,
   "id": "1f7959de",
   "metadata": {},
   "outputs": [],
   "source": [
    "data_isna_nuniq(orders)"
   ]
  },
  {
   "cell_type": "markdown",
   "id": "7c922480",
   "metadata": {},
   "source": [
    "Всего в таблице представлено ``1197`` уникальных заказа — ``orders``. \n",
    "\n",
    "Заказ совершили ``1031`` уникальный пользователь — ``visitorid``. \n",
    "\n",
    "Уникальных дат, в которые были совершены заказы ``31`` от ``01.08.2019`` до ``30.08.2019``, столбец ``date`` .\n",
    "\n",
    "Значений в поле о выручке ``713``, столбец ``revenue``.\n",
    "\n",
    "Групп A/B-теста, в которую попал заказ ``2``, столбец ``group``."
   ]
  },
  {
   "cell_type": "code",
   "execution_count": null,
   "id": "3f1a47a4",
   "metadata": {
    "scrolled": true
   },
   "outputs": [],
   "source": [
    "data_isna_nuniq(visitors)"
   ]
  },
  {
   "cell_type": "markdown",
   "id": "ad2507ff",
   "metadata": {},
   "source": [
    "Уникальных дат посещения ``31`` от ``01.08.2019`` до ``30.08.2019``, столбец ``date`` .\n",
    "\n",
    "Групп A/B-теста ``2``, столбец ``group``.\n",
    "\n",
    "Уникальных значений количества пользователей в указанную дату, в указанной группе A/B-теста ``58``, столбец ``visitors``."
   ]
  },
  {
   "cell_type": "markdown",
   "id": "632ff306",
   "metadata": {},
   "source": [
    "<a id=\"num553\"></a>\n",
    "#### Проверка данных"
   ]
  },
  {
   "cell_type": "markdown",
   "id": "96b0bf8d",
   "metadata": {},
   "source": [
    "Проверим данные по таблицам более детально. "
   ]
  },
  {
   "cell_type": "markdown",
   "id": "9ef9b300",
   "metadata": {},
   "source": [
    "<a id=\"num5531\"></a>\n",
    "##### Hypothesis"
   ]
  },
  {
   "cell_type": "code",
   "execution_count": 17,
   "id": "e0a3a724",
   "metadata": {
    "scrolled": true
   },
   "outputs": [],
   "source": [
    "pd.set_option('max_colwidth', 100)\n",
    "hypothesis"
   ]
  },
  {
   "cell_type": "markdown",
   "id": "0b4f3e0e",
   "metadata": {},
   "source": [
    "В таблице 9 не повторяющихся гипотез, со своими значениями reach, impact, confidence, efforts. "
   ]
  },
  {
   "cell_type": "markdown",
   "id": "4ff4702d",
   "metadata": {},
   "source": [
    "<a id=\"num5532\"></a>\n",
    "##### Orders"
   ]
  },
  {
   "cell_type": "code",
   "execution_count": 18,
   "id": "41e5543b",
   "metadata": {},
   "outputs": [],
   "source": [
    "orders.head(5)"
   ]
  },
  {
   "cell_type": "code",
   "execution_count": 19,
   "id": "f7aec648",
   "metadata": {
    "scrolled": false
   },
   "outputs": [],
   "source": [
    "fig = px.bar(orders.groupby('group')['visitorid']\n",
    "             .count()\n",
    "             .reset_index()\n",
    "             .rename(columns={\n",
    "                 'group': 'Группа', \n",
    "                 'visitorid': 'Количество'}), \n",
    "             y='Количество', \n",
    "             x='Группа', \n",
    "             color='Группа', \n",
    "             color_discrete_sequence=[colors[0], colors[7]],\n",
    "             title='Распределение долей пользователей с подпиской и без',        \n",
    "             barmode='group',\n",
    "             text='Количество'\n",
    "            )\n",
    "\n",
    "fig.update_traces(texttemplate='%{text}', textposition='inside')\n",
    "fig.update_layout(showlegend=True, legend_title='Группы',\n",
    "                  plot_bgcolor='AliceBlue',\n",
    "                  margin={\"r\": 0, \"t\": 50, \"l\": 0, \"b\": 50})\n",
    "fig.show()"
   ]
  },
  {
   "cell_type": "markdown",
   "id": "93a7278f",
   "metadata": {},
   "source": [
    "Желательно, чтобы группы А и B были одинаковыми. Посмотрим, что может влиять на такую разницу."
   ]
  },
  {
   "cell_type": "markdown",
   "id": "1ac2c8db",
   "metadata": {},
   "source": [
    "Проверим дублирование записей о пользователях. "
   ]
  },
  {
   "cell_type": "code",
   "execution_count": null,
   "id": "52a2fea9",
   "metadata": {},
   "outputs": [],
   "source": [
    "orders[orders.duplicated(subset=['visitorid'], keep=False)].sort_values(by='visitorid')"
   ]
  },
  {
   "cell_type": "markdown",
   "id": "3adbd593",
   "metadata": {},
   "source": [
    "В данных найдено 260 строк с дублирующимися пользователями. Часть из пользователей попала в одну группу теста, но в один день зафиксировано несколько транзакций от них. Часть пользователей попала __в обе группы теста__. "
   ]
  },
  {
   "cell_type": "markdown",
   "id": "30e8d6ed",
   "metadata": {},
   "source": [
    "Проверим пользователей, которые попали в обе группы теста. "
   ]
  },
  {
   "cell_type": "code",
   "execution_count": 20,
   "id": "297cdd58",
   "metadata": {},
   "outputs": [],
   "source": [
    "matching_visitors = uniq(orders)"
   ]
  },
  {
   "cell_type": "markdown",
   "id": "7fcb15c0",
   "metadata": {},
   "source": [
    "58 пользователей попали в обе группы теста. "
   ]
  },
  {
   "cell_type": "markdown",
   "id": "7f0b7a0a",
   "metadata": {},
   "source": [
    "Чтобы исключить влияние на результат, не будем использовать данные пользователей, которые попали в обе группы. Будем использовать данные убрав такие записи. "
   ]
  },
  {
   "cell_type": "code",
   "execution_count": 21,
   "id": "99b48aff",
   "metadata": {},
   "outputs": [],
   "source": [
    "orders_fixed = orders.query('visitorid not in @matching_visitors')"
   ]
  },
  {
   "cell_type": "markdown",
   "id": "e6fcd138",
   "metadata": {},
   "source": [
    "В таблице остались только пользователи, которые находятся строго в одной группе. "
   ]
  },
  {
   "cell_type": "code",
   "execution_count": null,
   "id": "a9bdcf03",
   "metadata": {
    "scrolled": true
   },
   "outputs": [],
   "source": [
    "uniq(orders_fixed)"
   ]
  },
  {
   "cell_type": "markdown",
   "id": "a45892a2",
   "metadata": {},
   "source": [
    "Пользоватаелей, которые попали в обе группы теста больше нет в данных. Пользователи, которые несколько раз за один день совершали транзакции — в данных остались, так как не представляют проблемы, вполне естественно, что за один день может быть несколько заказов от одного пользователя. "
   ]
  },
  {
   "cell_type": "code",
   "execution_count": 22,
   "id": "d39ce5d7",
   "metadata": {},
   "outputs": [],
   "source": [
    "orders_fixed.groupby('group')['visitorid'].count()"
   ]
  },
  {
   "cell_type": "markdown",
   "id": "d189fded",
   "metadata": {},
   "source": [
    "Количество пользователей в тесте уменьшилось, но они все равно представлены не в равных частях. В идеальных условиях теста количество пользователей в группах должно быть одинаковым. \n",
    "\n",
    "В группе ``А`` — ``468`` пользователей. \n",
    "\n",
    "В группе ``В`` — ``548`` пользователей."
   ]
  },
  {
   "cell_type": "markdown",
   "id": "b260342e",
   "metadata": {},
   "source": [
    "Разница между группами порядка ``14.6%``. Но, так как невозможно привести к равному количеству пользователей в группах не нарушив результаты исследования, не будем уравнивать группы по количеству. "
   ]
  },
  {
   "cell_type": "markdown",
   "id": "399d3fda",
   "metadata": {},
   "source": [
    "<a id=\"num5533\"></a>\n",
    "##### Visitors"
   ]
  },
  {
   "cell_type": "code",
   "execution_count": 23,
   "id": "95363d46",
   "metadata": {},
   "outputs": [],
   "source": [
    "visitors"
   ]
  },
  {
   "cell_type": "code",
   "execution_count": 24,
   "id": "785a55ca",
   "metadata": {},
   "outputs": [],
   "source": [
    "visitors.groupby('group')['date'].count()"
   ]
  },
  {
   "cell_type": "markdown",
   "id": "22f8695a",
   "metadata": {},
   "source": [
    "По датам результаты теста представлены верно, результаты для обоих тестов есть для каждой указанной даты. Каких-либо особых действий тут не требуется."
   ]
  },
  {
   "cell_type": "markdown",
   "id": "6a83e8a3",
   "metadata": {},
   "source": [
    "<a id=\"num6\"></a>\n",
    "## Исследование"
   ]
  },
  {
   "cell_type": "markdown",
   "id": "34e78673",
   "metadata": {},
   "source": [
    "<a id=\"num61\"></a>\n",
    "### Приоритизация гипотез"
   ]
  },
  {
   "cell_type": "markdown",
   "id": "c7187ab5",
   "metadata": {},
   "source": [
    "<a id=\"num611\"></a>\n",
    "#### ICE"
   ]
  },
  {
   "cell_type": "code",
   "execution_count": 25,
   "id": "6985691a",
   "metadata": {},
   "outputs": [],
   "source": [
    "pd.set_option('max_colwidth', 150)"
   ]
  },
  {
   "cell_type": "code",
   "execution_count": 26,
   "id": "f10eea25",
   "metadata": {},
   "outputs": [],
   "source": [
    "hypothesis['ICE'] = ((hypothesis['impact'] * hypothesis['confidence']) / hypothesis['efforts']).round(2)"
   ]
  },
  {
   "cell_type": "markdown",
   "id": "9a36196d",
   "metadata": {},
   "source": [
    "\n",
    "При ``ICE`` топ-3 гипотезы:\n",
    "- 8 — __«Запустить акцию, дающую скидку на товар в день рождения»:__\n",
    "    - ``impact`` — 9, \n",
    "    - ``confidence`` — 9, \n",
    "    - ``efforts`` — 5;\n",
    "- 0 — __«Добавить два новых канала привлечения трафика, что позволит привлекать на 30% больше пользователей»:__ \n",
    "    - ``impact`` — 10, \n",
    "    - ``confidence`` — 8, \n",
    "    - ``efforts`` — 6;\n",
    "- 7 — __«Добавить форму подписки на все основные страницы, чтобы собрать базу клиентов для email-рассылок»:__\n",
    "    - ``impact`` — 7, \n",
    "    - ``confidence`` — 8, \n",
    "    - ``efforts`` — 5;"
   ]
  },
  {
   "cell_type": "markdown",
   "id": "e0c29955",
   "metadata": {},
   "source": [
    "При ``ICE`` наиболее перспективные гипотезы: \n",
    "- ``8 — «Запустить акцию, дающую скидку на товар в день рождения»``, \n",
    "- ``0 — «Добавить два новых канала привлечения трафика, что позволит привлекать на 30% больше пользователей»``, \n",
    "- ``7 — «Добавить форму подписки на все основные страницы, чтобы собрать базу клиентов для email-рассылок»``. \n",
    "\n",
    "Гипотезы были выбраны по довольно внушительным значениям __влияния__(impact — от 7 до 10) и __уверенности__(confidence — от 8 до 9), хоть и __усилия__(efforts) для проверки этих гипотез не самые малые(от 5 до 6). \n",
    "Можно заметить, что при ICE в приоритет попали гипотезы с макисмальным влиянием из всех остальных гипотез. "
   ]
  },
  {
   "cell_type": "markdown",
   "id": "ff416494",
   "metadata": {},
   "source": [
    "<a id=\"num612\"></a>\n",
    "#### RICE"
   ]
  },
  {
   "cell_type": "code",
   "execution_count": 27,
   "id": "91e361b3",
   "metadata": {},
   "outputs": [],
   "source": [
    "hypothesis['RICE'] = (hypothesis['reach'] * hypothesis['impact'] * hypothesis['confidence']) / hypothesis['efforts']"
   ]
  },
  {
   "cell_type": "markdown",
   "id": "c114486d",
   "metadata": {},
   "source": [
    "При ``RICE`` топ-3 гипотезы:\n",
    "- __«Добавить форму подписки на все основные страницы, чтобы собрать базу клиентов для email-рассылок»:__\n",
    "    - ``reach`` — 10, \n",
    "    - ``impact`` — 7, \n",
    "    - ``confidence`` — 8, \n",
    "    - ``efforts`` — 5;\n",
    "- __«Добавить блоки рекомендаций товаров на сайт интернет магазина, чтобы повысить конверсию и средний чек заказа»:__\n",
    "    - ``reach`` — 8, \n",
    "    - ``impact`` — 3, \n",
    "    - ``confidence`` — 7, \n",
    "    - ``efforts`` — 3;\n",
    "- __«Добавить два новых канала привлечения трафика, что позволит привлекать на 30% больше пользователей»:__\n",
    "    - ``reach`` — 3, \n",
    "    - ``impact`` — 10, \n",
    "    - ``confidence`` — 8, \n",
    "    - ``efforts`` — 6;\n",
    "\n",
    "При ``RICE`` распределение приоритетов немного сместилось, в топе уже не удерживаются гипотезы с каким-то одним преобладающим значением. "
   ]
  },
  {
   "cell_type": "markdown",
   "id": "cb5257a2",
   "metadata": {},
   "source": [
    "<a id=\"num613\"></a>\n",
    "#### Анализ результатов между ICE и RICE"
   ]
  },
  {
   "cell_type": "code",
   "execution_count": 28,
   "id": "d93c0c05",
   "metadata": {},
   "outputs": [],
   "source": [
    "display(hypothesis.sort_values(by='ICE', ascending=False))\n",
    "display(hypothesis.sort_values(by='RICE', ascending=False))"
   ]
  },
  {
   "cell_type": "markdown",
   "id": "22ed8dd1",
   "metadata": {},
   "source": [
    "В зависимости от применения каждого фреймворка, приоритизация гипотез меняется.\n",
    "\n",
    "Единственным пересечением гипотез являются гипотезы ``0`` — __«Добавить два новых канала привлечения трафика, что позволит привлекать на 30% больше пользователей»__ и гипотеза ``7`` — __«Добавить форму подписки на все основные страницы, чтобы собрать базу клиентов для email-рассылок»__."
   ]
  },
  {
   "cell_type": "markdown",
   "id": "ebf59ad9",
   "metadata": {},
   "source": [
    "Из приведенных гипотез, гипотеза ``8`` — о запуске акции со скидкой на день рождения, и гипотеза ``0`` — о добавлении двух новых каналов привлечении трафика, имеют самые высокие коэффициенты по показателям ``impact`` и ``confidence``, а затраты на проверку — средние. \n",
    "\n",
    "При подсчете показателя ``ICE`` обе гипотезы стояли в приоритете проверки. \n",
    "\n",
    "При подсчете показателя ``RICE`` гипотеза ``8`` оказалась не в приоритете проверки. Не смотря на то, что прочие коэффициенты большие, охват предполагается минимальный, таким образом эту гипотезу стоит проверить, но не в первую очередь.  "
   ]
  },
  {
   "cell_type": "markdown",
   "id": "6d3bdb72",
   "metadata": {},
   "source": [
    "При введении дополнительного коэффициента охвата, приоритет гипотез поменялся. Если предполагается, что гипотеза будет задевать большое количество пользователей, ее приоритет может измениться на более высокий. "
   ]
  },
  {
   "cell_type": "markdown",
   "id": "e86b102c",
   "metadata": {},
   "source": [
    "<a id=\"num7\"></a>\n",
    "## Анализ A/B-теста"
   ]
  },
  {
   "cell_type": "markdown",
   "id": "8dcb01bf",
   "metadata": {},
   "source": [
    "Для дальнейшего анализа соберем таблицу с данными о группах теста, количестве заказов, количестве покупателей и количестве посетителей на каждый день теста. "
   ]
  },
  {
   "cell_type": "code",
   "execution_count": 29,
   "id": "0cc44988",
   "metadata": {},
   "outputs": [],
   "source": [
    "groups = orders_fixed[['date', 'group']].drop_duplicates()\n",
    "\n",
    "orders_agg = (groups.apply(\n",
    "    lambda x: orders_fixed[np.logical_and(orders_fixed['date'] <= x['date'], \n",
    "                                          orders_fixed['group'] == x['group'])]\n",
    "    .agg({\n",
    "        'date': 'max',\n",
    "        'group': 'max',\n",
    "        'transactionid': 'nunique',\n",
    "        'visitorid': 'nunique',\n",
    "        'revenue': 'sum',}),\n",
    "    axis=1,).sort_values(by=['date', 'group']))\n",
    "\n",
    "visitors_agg = (groups.apply(\n",
    "    lambda x: visitors[np.logical_and(visitors['date'] <= x['date'],\n",
    "                                      visitors['group'] == x['group'])]\n",
    "    .agg({\n",
    "        'date': 'max', \n",
    "        'group': 'max', \n",
    "        'visitors': 'sum'}),\n",
    "    axis=1,).sort_values(by=['date', 'group']))\n",
    "\n",
    "cumulative_data = orders_agg.merge(\n",
    "    visitors_agg, left_on=['date', 'group'], right_on=['date', 'group'])\n",
    "cumulative_data.columns = [\n",
    "    'date',\n",
    "    'group',\n",
    "    'orders',\n",
    "    'buyers',\n",
    "    'revenue',\n",
    "    'visitors']"
   ]
  },
  {
   "cell_type": "code",
   "execution_count": 30,
   "id": "62f6857d",
   "metadata": {},
   "outputs": [],
   "source": [
    "cumulative_data"
   ]
  },
  {
   "cell_type": "markdown",
   "id": "c9aad650",
   "metadata": {},
   "source": [
    "В полученной таблице ``62`` строки, ``31`` запить о данных для группы ``А``, ``31`` — для группы ``В``."
   ]
  },
  {
   "cell_type": "code",
   "execution_count": 31,
   "id": "bcfb0ec5",
   "metadata": {},
   "outputs": [],
   "source": [
    "cumulative_data['date'].nunique()"
   ]
  },
  {
   "cell_type": "code",
   "execution_count": 32,
   "id": "289c36cf",
   "metadata": {},
   "outputs": [],
   "source": [
    "orders['date'].nunique()"
   ]
  },
  {
   "cell_type": "code",
   "execution_count": 33,
   "id": "523ec250",
   "metadata": {
    "scrolled": false
   },
   "outputs": [],
   "source": [
    "check = pd.DataFrame()\n",
    "check['date'] = cumulative_data['date'].sort_values().unique() == orders['date'].sort_values().unique()\n",
    "check"
   ]
  },
  {
   "cell_type": "markdown",
   "id": "ebdd7512",
   "metadata": {},
   "source": [
    "Данные в объединенной таблице, если сравнивать по столбцу даты, совпадают с данными о дате в оригинальной таблице. "
   ]
  },
  {
   "cell_type": "markdown",
   "id": "462a6b02",
   "metadata": {},
   "source": [
    "<a id=\"num71\"></a>\n",
    "### График кумулятивной выручки по группам"
   ]
  },
  {
   "cell_type": "markdown",
   "id": "f354840d",
   "metadata": {},
   "source": [
    "Построим график кумулятивной выручки по группам теста."
   ]
  },
  {
   "cell_type": "code",
   "execution_count": 34,
   "id": "1cdd032c",
   "metadata": {},
   "outputs": [],
   "source": [
    "cumulative_revenue = cumulative_data.groupby(['date', 'group'])['revenue'].sum().groupby(level=1).cumsum().reset_index()"
   ]
  },
  {
   "cell_type": "code",
   "execution_count": 35,
   "id": "34723f73",
   "metadata": {},
   "outputs": [],
   "source": [
    "cumulative_rev_a = cumulative_data[cumulative_data['group'] == 'A'][['date', 'revenue', 'orders', 'visitors']]\n",
    "cumulative_rev_b = cumulative_data[cumulative_data['group'] == 'B'][['date', 'revenue', 'orders', 'visitors']]"
   ]
  },
  {
   "cell_type": "code",
   "execution_count": 36,
   "id": "ff9722cd",
   "metadata": {},
   "outputs": [],
   "source": [
    "cumulative(cumulative_rev_a['date'],\n",
    "          cumulative_rev_a['revenue'],\n",
    "          cumulative_rev_b['date'],\n",
    "          cumulative_rev_b['revenue'],\n",
    "          y_name='Сумма выручки',\n",
    "          x_name='Даты')"
   ]
  },
  {
   "cell_type": "markdown",
   "id": "9f1709c7",
   "metadata": {},
   "source": [
    "Первые ``18`` дней теста, данные о выручке у обоих групп совпадали. ``19-го`` числа данные в группе В выросли, так, за один день сумма выручки __в группе В выросла__ ``с 2.2 млн до 3.6 млн``. \n",
    "\n",
    "В это же время в группе А никаких резких изменений не замечено. \n",
    "\n",
    "Увы, так как данных о дате запуска у нас нет, могу только предполагать причины внезапного роста. Либо на данные влияют большие заказы в группе ``B``, что могло случиться в следствии нового функционала. "
   ]
  },
  {
   "cell_type": "markdown",
   "id": "ac315993",
   "metadata": {},
   "source": [
    "<a id=\"num72\"></a>\n",
    "### График кумулятивного среднего чека по группам"
   ]
  },
  {
   "cell_type": "markdown",
   "id": "d8303325",
   "metadata": {},
   "source": [
    "Построим график кумулятивного среднего чека по группам. "
   ]
  },
  {
   "cell_type": "code",
   "execution_count": 37,
   "id": "d4744b46",
   "metadata": {},
   "outputs": [],
   "source": [
    "cumulative(cumulative_rev_a['date'], \n",
    "           cumulative_rev_a['revenue']/cumulative_rev_a['orders'], \n",
    "           cumulative_rev_b['date'],\n",
    "           cumulative_rev_b['revenue']/cumulative_rev_b['orders'],\n",
    "           y_name='Сумма среднего чека',\n",
    "           x_name='Даты')"
   ]
  },
  {
   "cell_type": "markdown",
   "id": "ecfe9b4f",
   "metadata": {},
   "source": [
    "На графике куммулятивного среднего чека также видно резкое увеличение начиная с 19-го числа. Стоит провести анализ по данным без больших заказов, так как их можно считать выбросами.  "
   ]
  },
  {
   "cell_type": "markdown",
   "id": "a4b5598f",
   "metadata": {},
   "source": [
    "<a id=\"num73\"></a>\n",
    "### График относительного изменения кумулятивного среднего чека группы B к группе A."
   ]
  },
  {
   "cell_type": "markdown",
   "id": "2690ac44",
   "metadata": {},
   "source": [
    "Построим график относительного изменения кумулятивного среднего чека группы B к группе A."
   ]
  },
  {
   "cell_type": "code",
   "execution_count": 38,
   "id": "9db1dc0c",
   "metadata": {},
   "outputs": [],
   "source": [
    "merged_cumulative_rev = cumulative_rev_a.merge(cumulative_rev_b, \n",
    "                                                 left_on='date', \n",
    "                                                 right_on='date', \n",
    "                                                 how='left', \n",
    "                                                 suffixes=['A', 'B'])"
   ]
  },
  {
   "cell_type": "code",
   "execution_count": 39,
   "id": "1e61a2da",
   "metadata": {
    "scrolled": false
   },
   "outputs": [],
   "source": [
    "cumulative(\n",
    "    merged_cumulative_rev['date'],\n",
    "    ((merged_cumulative_rev['revenueB'] / merged_cumulative_rev['ordersB']) / \n",
    "    (merged_cumulative_rev['revenueA'] / merged_cumulative_rev['ordersA']) - 1),\n",
    "    axhline='one', one_y=0,\n",
    "    y_name='Относительное изменение',\n",
    "    x_name='Даты')\n"
   ]
  },
  {
   "cell_type": "code",
   "execution_count": 40,
   "id": "7790ee43",
   "metadata": {},
   "outputs": [],
   "source": [
    "orders.query('group == \"B\"').sort_values(by='revenue', ascending=False).head(5)"
   ]
  },
  {
   "cell_type": "code",
   "execution_count": 41,
   "id": "8074a401",
   "metadata": {},
   "outputs": [],
   "source": [
    "display('6 августа', orders.query('group == \"B\" and date == \"2019-08-06\"')['revenue'].sum(), \n",
    "        '7 августа', orders.query('group == \"B\" and date == \"2019-08-07\"')['revenue'].sum())"
   ]
  },
  {
   "cell_type": "code",
   "execution_count": 42,
   "id": "6ceae9c6",
   "metadata": {},
   "outputs": [],
   "source": [
    "display('6 августа', orders.query('group == \"A\" and date == \"2019-08-06\"')['revenue'].sum(), \n",
    "        '7 августа', orders.query('group == \"A\" and date == \"2019-08-07\"')['revenue'].sum())"
   ]
  },
  {
   "cell_type": "markdown",
   "id": "c1320729",
   "metadata": {},
   "source": [
    "В некоторые даты было значительное различие куммулятивного среднего чека группы ``В``, к группе ``А``. Так на изменение ``19 августа`` в влияет то, что был заказ на очень большую сумму, что касается ``6 и 7 августа``, то на пик повлияли не изменения в группе ``В``, а малые суммы заказов в группе ``А``. "
   ]
  },
  {
   "cell_type": "markdown",
   "id": "77937fc8",
   "metadata": {},
   "source": [
    "<a id=\"num74\"></a>\n",
    "### График куммулятивного среднего количества заказов на посетителя по группам"
   ]
  },
  {
   "cell_type": "markdown",
   "id": "d1e35848",
   "metadata": {},
   "source": [
    "Постройте график кумулятивного среднего количества заказов на посетителя по группам. Сделайте выводы и предположения."
   ]
  },
  {
   "cell_type": "code",
   "execution_count": 43,
   "id": "7705b28f",
   "metadata": {},
   "outputs": [],
   "source": [
    "cumulative(\n",
    "    merged_cumulative_rev['date'],\n",
    "    merged_cumulative_rev['ordersA']/merged_cumulative_rev['visitorsA'],\n",
    "    merged_cumulative_rev['date'],\n",
    "    merged_cumulative_rev['ordersB']/merged_cumulative_rev['visitorsB'], \n",
    "    y_name='Куммулятивное среднего количества заказов на посетителя',\n",
    "    x_name='Даты')"
   ]
  },
  {
   "cell_type": "markdown",
   "id": "689eb9f2",
   "metadata": {},
   "source": [
    "Не смотря на то, что на графиках есть различия, сами графики между собой похожи. Колебания имеют схожий вид. Из этого следует, что куммулятивное среднее количества заказов по группам примерно равномерное. "
   ]
  },
  {
   "cell_type": "markdown",
   "id": "4625223b",
   "metadata": {},
   "source": [
    "<a id=\"num75\"></a>\n",
    "### График относительного изменения кумулятивного среднего количества заказов на посетителя группы B к группе A"
   ]
  },
  {
   "cell_type": "markdown",
   "id": "362ba74e",
   "metadata": {},
   "source": [
    "Построим график относительного изменения кумулятивного среднего количества заказов на посетителя группы B к группе A. "
   ]
  },
  {
   "cell_type": "code",
   "execution_count": 44,
   "id": "efa2936d",
   "metadata": {},
   "outputs": [],
   "source": [
    "cumulative_data['conversion'] = (cumulative_data['orders'] / cumulative_data['visitors'])\n",
    "\n",
    "cumulative_data_a = cumulative_data[cumulative_data['group'] == 'A']\n",
    "cumulative_data_b = cumulative_data[cumulative_data['group'] == 'B']\n",
    "\n",
    "merged_cumulative_conversion = (cumulative_data_a[['date','conversion']]\n",
    "                                .merge(cumulative_data_b[['date','conversion']], \n",
    "                                       left_on='date', \n",
    "                                       right_on='date', \n",
    "                                       how='left', \n",
    "                                       suffixes=['A', 'B']))"
   ]
  },
  {
   "cell_type": "code",
   "execution_count": 45,
   "id": "946e0094",
   "metadata": {},
   "outputs": [],
   "source": [
    "cumulative(merged_cumulative_conversion['date'],\n",
    "          (merged_cumulative_conversion['conversionB']/merged_cumulative_conversion['conversionA']-1),\n",
    "          axhline='two', \n",
    "          one_y=0,\n",
    "          two_y=0.15,\n",
    "          y_name='Относительное изменение',\n",
    "          x_name='Даты')"
   ]
  },
  {
   "cell_type": "markdown",
   "id": "f67c8bf3",
   "metadata": {},
   "source": [
    "Не смотря на то, что первую неделю группа ``В`` несколько отставала по конверсии от группы ``А``, начиная с ``7-го августа`` значения стали выше и оставались примерно на уровне ``15%`` от группы ``А``. "
   ]
  },
  {
   "cell_type": "markdown",
   "id": "83f30cf7",
   "metadata": {},
   "source": [
    "<a id=\"num76\"></a>\n",
    "### График количества заказов по пользователям"
   ]
  },
  {
   "cell_type": "markdown",
   "id": "0ac30492",
   "metadata": {},
   "source": [
    "Построим точечный график количества заказов по пользователям. "
   ]
  },
  {
   "cell_type": "code",
   "execution_count": 46,
   "id": "6cb7a862",
   "metadata": {},
   "outputs": [],
   "source": [
    "orders_cumulative_data = orders_fixed.merge(\n",
    "    cumulative_data, left_on=['date', 'group'], right_on=['date', 'group'])\n",
    "\n",
    "orders_cumulative_data = (orders_cumulative_data\n",
    "                          .rename(columns={\n",
    "                              'transactionid': 'transactionid', \n",
    "                              'visitorid': 'visitorid', \n",
    "                              'date': 'date',\n",
    "                              'revenue_x': 'revenue_per_user',\n",
    "                              'group': 'group',\n",
    "                              'orders': 'orders_daily',\n",
    "                              'buyers': 'buyers_daily',\n",
    "                              'revenue_y': 'revenue_daily',\n",
    "                              'visitors':'visitors_daily'}))"
   ]
  },
  {
   "cell_type": "code",
   "execution_count": 47,
   "id": "92ca89e9",
   "metadata": {},
   "outputs": [],
   "source": [
    "orders_count_fixed = (\n",
    "    orders_cumulative_data.groupby('visitorid', as_index=False)\n",
    "    .agg({'transactionid': 'nunique'}))\n",
    "\n",
    "orders_count_fixed.columns = ['visitorid', 'orders_count']"
   ]
  },
  {
   "cell_type": "code",
   "execution_count": 48,
   "id": "2c52e261",
   "metadata": {},
   "outputs": [],
   "source": [
    "fig = px.scatter(orders_count_fixed, \n",
    "                 x=orders_count_fixed.index,  \n",
    "                 y='orders_count',  \n",
    "                 color_discrete_sequence=[colors[2]],\n",
    "                 title='График количества заказов от количества посетителей с очисткой данных')\n",
    "\n",
    "fig.update_layout(xaxis_title='Пользователей', yaxis_title='Заказов',\n",
    "                  plot_bgcolor='AliceBlue',\n",
    "                  margin={\"r\": 0, \"t\": 50, \"l\": 0, \"b\": 50})\n",
    "fig.show()"
   ]
  },
  {
   "cell_type": "code",
   "execution_count": 49,
   "id": "a5c66c7a",
   "metadata": {},
   "outputs": [],
   "source": [
    "display(orders_count_fixed[orders_count_fixed['orders_count']==orders_count_fixed['orders_count'].max()])\n",
    "display(orders_count_fixed[orders_count_fixed['orders_count']==orders_count_fixed['orders_count'].min()])"
   ]
  },
  {
   "cell_type": "markdown",
   "id": "c1b7f0cb",
   "metadata": {},
   "source": [
    "Ранее из таблицы были убраны пользователи, которые попали в обе группы А/В теста, по оставшимся данным только ``7`` пользователей сделали максимальное количество заказов — ``3``. ``937`` пользователей из ``1031`` сделали по одному заказу."
   ]
  },
  {
   "cell_type": "markdown",
   "id": "1d1bcdb0",
   "metadata": {},
   "source": [
    "<a id=\"num77\"></a>\n",
    "### Перцентили количества заказов на пользователя."
   ]
  },
  {
   "cell_type": "markdown",
   "id": "822414f5",
   "metadata": {},
   "source": [
    "Посчитаем 95-й и 99-й перцентили количества заказов на пользователя."
   ]
  },
  {
   "cell_type": "code",
   "execution_count": 50,
   "id": "893306fc",
   "metadata": {},
   "outputs": [],
   "source": [
    "np.percentile(orders_count_fixed['orders_count'], [90, 95, 99])"
   ]
  },
  {
   "cell_type": "markdown",
   "id": "5803b0f0",
   "metadata": {},
   "source": [
    "Для данных без пользователей, которые попали в обе группы A/B теста, __нормальными границами__ заказов считается ``1-2 заказа``. "
   ]
  },
  {
   "cell_type": "markdown",
   "id": "e887e2cf",
   "metadata": {},
   "source": [
    "<a id=\"num78\"></a>\n",
    "### График стоимостей заказов"
   ]
  },
  {
   "cell_type": "markdown",
   "id": "c6b13070",
   "metadata": {},
   "source": [
    "Построим точечный график стоимостей заказов."
   ]
  },
  {
   "cell_type": "code",
   "execution_count": 51,
   "id": "dc7102b2",
   "metadata": {},
   "outputs": [],
   "source": [
    "fig = px.scatter(orders_fixed, \n",
    "                 x=orders_fixed.index,  \n",
    "                 y='revenue',  \n",
    "                 color_discrete_sequence=[colors[2]],\n",
    "                 title='График стоимости заказов от количества посетителей')\n",
    "\n",
    "fig.update_layout(xaxis_title='Пользователей', yaxis_title='Стоимость',\n",
    "                  plot_bgcolor='AliceBlue',\n",
    "                  margin={\"r\": 0, \"t\": 50, \"l\": 0, \"b\": 50})\n",
    "fig.show()"
   ]
  },
  {
   "cell_type": "markdown",
   "id": "95e3d950",
   "metadata": {},
   "source": [
    "Для данных без пользователей, которые попали в обе группы A/B теста, в целом сумма не превышает ``150 тысяч``, в редких случаях сумма заказа сильно больше.  "
   ]
  },
  {
   "cell_type": "markdown",
   "id": "f3d0b4f3",
   "metadata": {},
   "source": [
    "<a id=\"num79\"></a>\n",
    "### Перцентили стоимости заказов"
   ]
  },
  {
   "cell_type": "markdown",
   "id": "21f80c30",
   "metadata": {},
   "source": [
    "Посчитаем 95-й и 99-й перцентили стоимости заказов."
   ]
  },
  {
   "cell_type": "code",
   "execution_count": 52,
   "id": "b4d2975f",
   "metadata": {},
   "outputs": [],
   "source": [
    "np.percentile(orders['revenue'], [90, 95, 99])"
   ]
  },
  {
   "cell_type": "markdown",
   "id": "01e78478",
   "metadata": {},
   "source": [
    "Для данных без пользователей, которые попали в обе группы A/B теста, нормальными границами стоимости заказов можно считать сумму ``от 18168 до 58233.2`` валютных единиц, все остальные значения можно считать выбросами. "
   ]
  },
  {
   "cell_type": "markdown",
   "id": "ebef3ba0",
   "metadata": {},
   "source": [
    "<a id=\"num710\"></a>\n",
    "### Cтатистическая значимость различий в среднем количестве заказов на посетителя между группами по «сырым» данным"
   ]
  },
  {
   "cell_type": "markdown",
   "id": "a2c6227a",
   "metadata": {},
   "source": [
    "Посчитайтаем статистическую значимость различий в среднем количестве заказов на посетителя между группами по «сырым» данным."
   ]
  },
  {
   "cell_type": "markdown",
   "id": "95ce98b1",
   "metadata": {},
   "source": [
    "Прежде чем приступим к анализу, определимся с нулевой и альтернативной гипотезами. "
   ]
  },
  {
   "cell_type": "markdown",
   "id": "0e979410",
   "metadata": {},
   "source": [
    "- H0: статистически значимых различий в среднем количестве заказов на посетителя между группами А и В по «сырым» данным нет.\n",
    "- H1: статистически значимые различия в среднем количестве заказов на посетителя между группами А и В по «сырым» данным есть."
   ]
  },
  {
   "cell_type": "markdown",
   "id": "97063317",
   "metadata": {},
   "source": [
    "__Из данных исключены пользователи, которые попали в обе группы одновременно.__"
   ]
  },
  {
   "cell_type": "code",
   "execution_count": 53,
   "id": "83293a51",
   "metadata": {},
   "outputs": [],
   "source": [
    "orders_a = (\n",
    "    orders_cumulative_data[orders_cumulative_data['group'] == 'A'][['date', 'transactionid', 'visitorid']]\n",
    "    .groupby('date', as_index=False)\n",
    "    .agg({'transactionid': pd.Series.nunique}))\n",
    "\n",
    "orders_a.columns = ['date', 'orders_a']\n",
    "\n",
    "orders_b = (\n",
    "    orders_cumulative_data[orders_cumulative_data['group'] == 'B'][['date', 'transactionid', 'visitorid']]\n",
    "    .groupby('date', as_index=False)\n",
    "    .agg({'transactionid': pd.Series.nunique})\n",
    ")\n",
    "orders_b.columns = ['date', 'orders_b']\n",
    "\n",
    "data_orders = (\n",
    "    orders_a.merge(\n",
    "        orders_b, left_on='date', right_on='date', how='left'\n",
    "    ))"
   ]
  },
  {
   "cell_type": "code",
   "execution_count": 54,
   "id": "28f6633d",
   "metadata": {},
   "outputs": [],
   "source": [
    "orders_a_list = pd.concat([orders_a['orders_a'], \n",
    "                           pd.Series(0, index=np.arange(data_orders['orders_a'].sum() - len(orders_a['orders_a'])), \n",
    "                                     name='orders',),],axis=0,)\n",
    "\n",
    "orders_b_list = pd.concat([orders_b['orders_b'], \n",
    "                           pd.Series(0, index=np.arange(data_orders['orders_b'].sum() - len(orders_b['orders_b'])),\n",
    "                                     name='orders',),],axis=0,)\n",
    "display('p-value: ' + \"{0:.5f}\".format(stats.mannwhitneyu(data_orders['orders_a'], data_orders['orders_b'])[1]))\n",
    "display('Относительный прирост: ' + \"{0:.3f}\".format(data_orders['orders_b'].mean() / data_orders['orders_a'].mean() - 1))"
   ]
  },
  {
   "cell_type": "markdown",
   "id": "bb8458eb",
   "metadata": {},
   "source": [
    "P-value — ``4.9%``, это меньше обычного уровня значимости 0.05, что указывает на наличие статистически значимых различий между группами.\n",
    "\n",
    "Относительный прирост среднего количества заказов группы ``B`` к среднему количеству заказов группы ``A`` составляет ``17.1%``. Это значение говорит о том, что в группе ``B`` в среднем на ``17.1%`` больше заказов по сравнению с группой ``A``."
   ]
  },
  {
   "cell_type": "markdown",
   "id": "402f63ab",
   "metadata": {},
   "source": [
    "<a id=\"num711\"></a>\n",
    "### Cтатистическая значимость различий в среднем чеке заказа между группами по «сырым» данным"
   ]
  },
  {
   "cell_type": "markdown",
   "id": "73c4b0fa",
   "metadata": {},
   "source": [
    "Посчитаем статистическую значимость различий в среднем чеке заказа между группами по «сырым» данным."
   ]
  },
  {
   "cell_type": "markdown",
   "id": "08be1c9c",
   "metadata": {},
   "source": [
    "Прежде чем приступим к анализу, определимся с нулевой и альтернативной гипотезами."
   ]
  },
  {
   "cell_type": "markdown",
   "id": "5be63c9c",
   "metadata": {},
   "source": [
    "- H0: статистически значимых различий в среднем чеке заказа между группами по «сырым» данным А и В нет.\n",
    "- H1: статистически значимые различия в среднем чеке заказа между группами по «сырым» данным А и В есть."
   ]
  },
  {
   "cell_type": "markdown",
   "id": "895f3a6a",
   "metadata": {},
   "source": [
    "__Из данных исключены пользователи, которые попали в обе группы одновременно.__"
   ]
  },
  {
   "cell_type": "code",
   "execution_count": 55,
   "id": "d4675054",
   "metadata": {},
   "outputs": [],
   "source": [
    "revenue_a = (\n",
    "    orders_cumulative_data[orders_cumulative_data['group'] == 'A'][['date', 'revenue_per_user']]\n",
    "    .groupby('date', as_index=False)\n",
    "    .agg({'revenue_per_user': 'sum'}))\n",
    "\n",
    "revenue_a.columns = ['date', 'revenue_a']\n",
    "\n",
    "revenue_b = (\n",
    "    orders_cumulative_data[orders_cumulative_data['group'] == 'B'][['date', 'revenue_per_user']]\n",
    "    .groupby('date', as_index=False)\n",
    "    .agg({'revenue_per_user': 'sum'}))\n",
    "\n",
    "revenue_b.columns = ['date', 'revenue_b']\n",
    "\n",
    "data_rev = (\n",
    "    revenue_a.merge(\n",
    "        revenue_b, left_on='date', right_on='date', how='left'\n",
    "    ))"
   ]
  },
  {
   "cell_type": "code",
   "execution_count": 56,
   "id": "54970276",
   "metadata": {},
   "outputs": [],
   "source": [
    "revenue_a_list = pd.concat([revenue_a['revenue_a'], \n",
    "                           pd.Series(0, index=np.arange(data_rev['revenue_a'].sum() - len(revenue_a['revenue_a'])), \n",
    "                                     name='orders',),],axis=0,)\n",
    "\n",
    "revenue_b_list = pd.concat([revenue_b['revenue_b'], \n",
    "                           pd.Series(0, index=np.arange(data_rev['revenue_b'].sum() - len(revenue_b['revenue_b'])),\n",
    "                                     name='orders',),],axis=0,)\n",
    "\n",
    "display('p-value: ' + \"{0:.5f}\".format(stats.mannwhitneyu(data_rev['revenue_a'], data_rev['revenue_b'])[1]))\n",
    "display('Относительный прирост: ' +  \"{0:.3f}\".format(data_rev['revenue_b'].mean() / data_rev['revenue_a'].mean() - 1))"
   ]
  },
  {
   "cell_type": "markdown",
   "id": "6b7a70c1",
   "metadata": {},
   "source": [
    "P-value — ``22.6%``, это указывает, что нет статистически значимых различий между группами.\n",
    "\n",
    "Относительный прирост суммы среднего чека группы ``B`` к среднему чеку группы ``A`` составляет ``50.7%``. В группе ``В``, средний чек практически в два раза больше чем в группе ``А``. "
   ]
  },
  {
   "cell_type": "markdown",
   "id": "93854a28",
   "metadata": {},
   "source": [
    "<a id=\"num712\"></a>\n",
    "### Cтатистическая значимость различий в среднем количестве заказов на посетителя между группами по «очищенным» данным"
   ]
  },
  {
   "cell_type": "markdown",
   "id": "bb350cc1",
   "metadata": {},
   "source": [
    "Посчитаем статистическую значимость различий в среднем количестве заказов на посетителя между группами по «очищенным» данным."
   ]
  },
  {
   "cell_type": "markdown",
   "id": "306db54c",
   "metadata": {},
   "source": [
    "Прежде чем приступим к анализу, определимся с нулевой и альтернативной гипотезами. Оставих их такими же, как и для анализа по сырым данным. "
   ]
  },
  {
   "cell_type": "markdown",
   "id": "4bea5bcc",
   "metadata": {},
   "source": [
    "- H0: статистически значимых различий в среднем количестве заказов на посетителя между группами А и В по «очищенным» данным нет.\n",
    "- H1: статистически значимые различия в среднем количестве заказов на посетителя между группами А и В по «очищенным» данным есть."
   ]
  },
  {
   "cell_type": "code",
   "execution_count": 57,
   "id": "79db9e25",
   "metadata": {},
   "outputs": [],
   "source": [
    "orders_cumulative_perc = (orders_cumulative_data\n",
    "                          .query('revenue_per_user < 58233.2 and visitorid in @orders_cumulative_data[\"visitorid\"]'))"
   ]
  },
  {
   "cell_type": "code",
   "execution_count": 58,
   "id": "1f54fae3",
   "metadata": {},
   "outputs": [],
   "source": [
    "orders_a_clean = (    \n",
    "    orders_cumulative_perc[orders_cumulative_perc['group'] == 'A'][['date', 'transactionid', 'visitorid']]\n",
    "    .groupby('date', as_index=False)\n",
    "    .agg({'transactionid': pd.Series.nunique}))\n",
    "\n",
    "orders_a_clean.columns = ['date', 'orders_a']\n",
    "\n",
    "orders_b_clean = (\n",
    "    orders_cumulative_perc[orders_cumulative_perc['group'] == 'B'][['date', 'transactionid', 'visitorid']]\n",
    "    .groupby('date', as_index=False)\n",
    "    .agg({'transactionid': pd.Series.nunique})\n",
    ")\n",
    "orders_b_clean.columns = ['date', 'orders_b']\n",
    "\n",
    "data_orders_clean = (\n",
    "    orders_a_clean.merge(\n",
    "        orders_b_clean, left_on='date', right_on='date', how='left'\n",
    "    ))"
   ]
  },
  {
   "cell_type": "code",
   "execution_count": 59,
   "id": "cdd55e74",
   "metadata": {},
   "outputs": [],
   "source": [
    "display('p-value: ' +  \"{0:.5f}\".format(stats.mannwhitneyu(data_orders_clean['orders_a'], data_orders_clean['orders_b'])[1]))\n",
    "display('Относительный прирост: ' +  \"{0:.3f}\".format(data_orders_clean['orders_b'].mean() / data_orders_clean['orders_a'].mean() - 1))"
   ]
  },
  {
   "cell_type": "markdown",
   "id": "1c81b17d",
   "metadata": {},
   "source": [
    "С небольшими различиями результат такой же как и в «сырых» данных. \n",
    "\n",
    "P-value — меньше уровня значимости 0.05 — ``4.3%``, это указывает на наличие статистически значимых различий между группами.\n",
    "\n",
    "Относительный прирост среднего количества заказов группы ``B`` к среднему количеству заказов группы ``A`` составляет ``17.5%``. Это значение говорит о том, что в группе ``B`` в среднем на ``17.5%`` больше заказов по сравнению с группой ``A``.\n"
   ]
  },
  {
   "cell_type": "markdown",
   "id": "f1173d73",
   "metadata": {},
   "source": [
    "<a id=\"num713\"></a>\n",
    "### Cтатистическую значимость различий в среднем чеке заказа между группами по «очищенным» данным"
   ]
  },
  {
   "cell_type": "markdown",
   "id": "f02a6564",
   "metadata": {},
   "source": [
    "Посчитаем статистическую значимость различий в среднем чеке заказа между группами по «очищенным» данным. "
   ]
  },
  {
   "cell_type": "markdown",
   "id": "78e4ccb1",
   "metadata": {},
   "source": [
    "Прежде чем приступим к анализу, определимся с нулевой и альтернативной гипотезами. Оставих их такими же, как и для анализа по сырым данным. "
   ]
  },
  {
   "cell_type": "markdown",
   "id": "6ffacbcc",
   "metadata": {},
   "source": [
    "- H0: статистически значимых различий в среднем чеке заказа между группами по «очищенным» данным А и В нет.\n",
    "- H1: статистически значимые различия в среднем чеке заказа между группами по «очищенным» данным А и В есть."
   ]
  },
  {
   "cell_type": "code",
   "execution_count": 60,
   "id": "7efbffe7",
   "metadata": {},
   "outputs": [],
   "source": [
    "revenue_a_clean = (\n",
    "    orders_cumulative_perc[orders_cumulative_perc['group'] == 'A'][['date', 'revenue_per_user']]\n",
    "    .groupby('date', as_index=False)\n",
    "    .agg({'revenue_per_user': 'sum'}))\n",
    "\n",
    "revenue_a_clean.columns = ['date', 'revenue_a']\n",
    "\n",
    "revenue_b_clean = (\n",
    "    orders_cumulative_perc[orders_cumulative_perc['group'] == 'B'][['date', 'revenue_per_user']]\n",
    "    .groupby('date', as_index=False)\n",
    "    .agg({'revenue_per_user': 'sum'}))\n",
    "\n",
    "revenue_b_clean.columns = ['date', 'revenue_b']\n",
    "\n",
    "data_rev_clean = (\n",
    "    revenue_a_clean.merge(\n",
    "        revenue_b_clean, left_on='date', right_on='date', how='left'\n",
    "    ))"
   ]
  },
  {
   "cell_type": "code",
   "execution_count": 61,
   "id": "b8fcd8b0",
   "metadata": {},
   "outputs": [],
   "source": [
    "revenue_a_list_clean = pd.concat([revenue_a_clean['revenue_a'], \n",
    "                           pd.Series(0, index=np.arange(data_rev_clean['revenue_a'].sum() - len(revenue_a_clean['revenue_a'])), \n",
    "                                     name='orders',),],axis=0,)\n",
    "\n",
    "revenue_b_list_clean = pd.concat([revenue_b['revenue_b'], \n",
    "                           pd.Series(0, index=np.arange(data_rev_clean['revenue_b'].sum() - len(revenue_b_clean['revenue_b'])),\n",
    "                                     name='orders',),],axis=0,)\n",
    "\n",
    "display('p-value: ' +  \"{0:.5f}\".format(stats.mannwhitneyu(data_rev_clean['revenue_a'], data_rev_clean['revenue_b'])[1]))\n",
    "display('Относительный прирост: ' +  \"{0:.3f}\".format(data_rev_clean['revenue_b'].mean() / data_rev_clean['revenue_a'].mean() - 1))"
   ]
  },
  {
   "cell_type": "markdown",
   "id": "2122363b",
   "metadata": {},
   "source": [
    "P-value составляет ``0.22064``, что выше обычного уровня значимости 0.05. Это говорит о том, что нет статистически значимых различий в выручке между группами.\n",
    "\n",
    "Относительный прирост средней выручки группы ``B`` к средней выручке группы ``A`` составляет ``13.8%``."
   ]
  },
  {
   "cell_type": "markdown",
   "id": "502ecfe5",
   "metadata": {},
   "source": [
    "<a id=\"num8\"></a>\n",
    "## Выводы"
   ]
  },
  {
   "cell_type": "markdown",
   "id": "4eb4074f",
   "metadata": {},
   "source": [
    "1. **Обзор данных:** \n",
    "\n",
    "    - В предоставленных данных были три таблицы: ``hypothesis`` с информацией о выдвинутых гипотезах, ``orders`` с данными о финансовых операциях в магазине и ``visitors`` с данными о посещении сайта пользователями, за каждый день представлены данные отдельно по каждой группе теста.\n",
    "    - В таблице ``hypothesis`` содержалась информация о ``9`` гипотезах, включая их значения: Reach, Impact, Confidence и Effort. Данные были в полном порядке, пропусков нет, данные не дублировались. \n",
    "    - В таблице ``orders`` представлена информация о ``1197 `` заказах, включая идентификаторы покупателей, идентификаторы транзакций, дату и сумму каждой покупки. Тип данных для столбца ``date`` был исправлен на дату. Из данных были удалены пользователи, которые попали в обе группы теста одновременно. \n",
    "    - В таблице ``visitors`` содержалась информация о ``62 ``датах, в которые пользователи заходили на сайт, количестве пользователей в этот день, а также о группе теста. В данных пропусков не было, данные не дублировались. "
   ]
  },
  {
   "cell_type": "markdown",
   "id": "7eed1a00",
   "metadata": {},
   "source": [
    "2. **Анализ данных:** \n",
    "\n",
    "    Таблица ``hypothesis``. \n",
    "\n",
    "    - Количество гипотез представлено девятью гипотезами, каждая из гипотез актуальна и в перспективе может привести к увеличению прибыли, либо уровня взаимодействия с платформой. \n",
    "    - Коэффициенты у каждого значения разные, что в итоге позволяет выбрать самые перспективные гипотезы и советовать анализировать их в первую очередь. \n",
    "    \n",
    "    Таблица ``orders``. \n",
    "    - Количество пользователей в тесте представлено не в равных частях. В идеальных условиях теста количество пользователей в группах должно быть одинаковым. \n",
    "    - В группе ``А`` — ``468`` пользователей. \n",
    "    - В группе ``В`` — ``548`` пользователей.\n",
    "    - Разница между группами порядка ``14.6%``. Во избежание влияния на результат, группы были оставлены в том же количестве. \n",
    "    \n",
    "    Таблица ``visitors``. \n",
    "    - Таблица отображает данные со счетчика посещений, что дает нам общее представление о посещаемости сайта в целом и отдельно по группам теста. "
   ]
  },
  {
   "cell_type": "markdown",
   "id": "bb2ce607",
   "metadata": {},
   "source": [
    "3. **Проверка гипотез:**\n",
    "\n",
    "    - При использовании фреймворка ``ICE`` топ-3 гипотезы определены преимущественно по высоким значениям ``impact и confidence``, с умеренными усилиями для проверки.\n",
    "    - Гипотезы ``8 и 0`` выделяются на фоне других при анализе ``ICE``, обладая высоким влиянием и уверенностью.\n",
    "    - Фреймворк ``RICE`` учитывает дополнительный параметр охвата (reach), что влияет на пересмотр приоритетов гипотез.\n",
    "    - Гипотеза ``8``, хотя имеет высокие значения ``impact и confidence``, теряет приоритет при использовании ``RICE`` из-за низкого охвата.\n",
    "    - Пересечение гипотез в обоих фреймворках - гипотезы ``0 и 7``.\n",
    "    - Введение дополнительного коэффициента охвата в ``RICE`` может измениться приоритет гипотез в зависимости от охвата пользователей."
   ]
  },
  {
   "cell_type": "markdown",
   "id": "b227267c",
   "metadata": {},
   "source": [
    "4. **Анализ А/В теста:**\n",
    "\n",
    "    __Cтатистическая значимость различий в среднем количестве заказов между группами А и В.__\n",
    "\n",
    "    Сырые данные: \n",
    "- P-value равно ``4.9%``, что меньше обычного уровня значимости 0.05. Это позволяет __отвергнуть нулевую гипотезу__ ``H0``, указывая на наличие статистически значимых различий в среднем количестве заказов между группами А и В по «сырым» данным.\n",
    "Относительный прирост среднего количества заказов в группе B по сравнению с группой A составляет ``17.1%``.\n",
    "\n",
    "    Очищенные данные:\n",
    "- P-value меньше уровня значимости — ``4.3%``, что также позволяет __отвергнуть нулевую гипотезу__ ``H0`` и указывает на наличие статистически значимых различий между группами по «очищенным» данным.\n",
    "Относительный прирост среднего количества заказов в группе B по сравнению с группой A составляет ``17.5%``.\n",
    "\n",
    "    Вывод:\n",
    "- Исходя из анализа, можно сказать, что статистически значимые различия в среднем количестве заказов между группами А и В обнаружены как по «сырым», так и по «очищенным» данным. Кроме того, относительный прирост количества заказов в группе B по сравнению с группой A примерно одинаков как для «сырых», так и для «очищенных» данных.\n",
    "\n",
    "    __Cтатистическая значимость различий в среднем чеке заказа между группами А и В.__\n",
    "\n",
    "    Сырые данные:\n",
    "- P-value равно 22.6%, что превышает уровень значимости 0.05. Это означает, что __нет статистически значимых различий__ в среднем чеке между группами по «сырым» данным.\n",
    "Относительный прирост суммы среднего чека группы B к среднему чеку группы A составляет ``50.7%``. Это высокий процент и может указывать на потенциальные различия в поведении клиентов между группами.\n",
    "\n",
    "    Очищенные данные:\n",
    "- P-value для «очищенных» данных равно 0.22064, что также превышает уровень значимости 0.05. Это говорит о том, что после удаления выбросов __нет статистически значимых различий__ в среднем чеке между группами.\n",
    "Относительный прирост средней выручки группы B к средней выручке группы A уменьшился до ``13.8%``. Это также меньше, чем при анализе «сырых» данных.\n",
    "\n",
    "    Вывод:\n",
    "- На основе текущих данных __нет статистически значимых различий__ в среднем чеке между группами ни по «сырым», ни по «очищенным» данным. Однако, стоит отметить, что в случае «сырых» данных относительный прирост среднего чека в группе B был значительно выше — 50.7%, чем после очистки данных — 13.8%. Вероятнее всего это влияние выбросов на результат. "
   ]
  },
  {
   "cell_type": "markdown",
   "id": "ad3ac20a",
   "metadata": {},
   "source": [
    "<a id=\"num9\"></a>\n",
    "## Рекомендации"
   ]
  },
  {
   "cell_type": "markdown",
   "id": "e139763f",
   "metadata": {},
   "source": [
    "__Гипотезы.__\n",
    "\n",
    "- Стоит обратить внимание на гипотезы:  0 — __«Добавить два новых канала привлечения трафика, что позволит привлекать на 30% больше пользователей»__ и 7 — __«Добавить форму подписки на все основные страницы, чтобы собрать базу клиентов для email-рассылок»__.\n",
    "Это две перспективные гипотезы, которые оказывались в топе при использовании и фреймворка ICE, и фреймворка RICE. "
   ]
  },
  {
   "cell_type": "markdown",
   "id": "1752aad8",
   "metadata": {},
   "source": [
    "__Рекомендация для теста о среднем количестве заказов между группами А и В:__\n",
    "\n",
    "- На основе представленных результатов можно рекомендовать продолжить эксперимент и дополнительно изучить факторы, которые могли бы объяснить наблюдаемые различия между группами. "
   ]
  },
  {
   "cell_type": "markdown",
   "id": "0ec0a0f8",
   "metadata": {},
   "source": [
    "__Рекомендация для теста о среднем чеке заказа между группами А и В:__\n",
    "\n",
    "- Продолжение эксперимента может быть оправданным для дополнительного анализа и подтверждения результатов."
   ]
  },
  {
   "cell_type": "markdown",
   "id": "977ccf0b",
   "metadata": {},
   "source": [
    "__Временные рамки:__\n",
    "\n",
    "- Учитывая, что некоторые изменения по куммулятивным значениям показывали колебания, которые видны в рамках всего периода наблюдения, советую текущий эксперимента продлить еще на один месяц. "
   ]
  }
 ],
 "metadata": {
  "ExecuteTimeLog": [
   {
    "duration": 1044,
    "start_time": "2023-11-15T10:55:50.645Z"
   },
   {
    "duration": 206,
    "start_time": "2023-11-15T10:55:51.691Z"
   },
   {
    "duration": 5,
    "start_time": "2023-11-15T10:55:51.898Z"
   },
   {
    "duration": 11,
    "start_time": "2023-11-15T10:55:51.905Z"
   },
   {
    "duration": 15,
    "start_time": "2023-11-15T10:55:51.918Z"
   },
   {
    "duration": 7,
    "start_time": "2023-11-15T10:55:51.936Z"
   },
   {
    "duration": 11,
    "start_time": "2023-11-15T10:55:51.944Z"
   },
   {
    "duration": 8,
    "start_time": "2023-11-15T10:55:51.957Z"
   },
   {
    "duration": 587,
    "start_time": "2023-11-15T10:55:51.967Z"
   },
   {
    "duration": 44,
    "start_time": "2023-11-15T10:55:52.556Z"
   },
   {
    "duration": 48,
    "start_time": "2023-11-15T10:55:52.633Z"
   },
   {
    "duration": 6,
    "start_time": "2023-11-15T10:55:52.683Z"
   },
   {
    "duration": 34,
    "start_time": "2023-11-15T10:55:52.691Z"
   },
   {
    "duration": 22,
    "start_time": "2023-11-15T10:55:52.727Z"
   },
   {
    "duration": 13,
    "start_time": "2023-11-15T10:55:52.750Z"
   },
   {
    "duration": 20,
    "start_time": "2023-11-15T10:55:52.765Z"
   },
   {
    "duration": 21,
    "start_time": "2023-11-15T10:55:52.788Z"
   },
   {
    "duration": 11,
    "start_time": "2023-11-15T10:55:52.811Z"
   },
   {
    "duration": 29,
    "start_time": "2023-11-15T10:55:52.823Z"
   },
   {
    "duration": 506,
    "start_time": "2023-11-15T10:55:52.854Z"
   },
   {
    "duration": 15,
    "start_time": "2023-11-15T10:55:53.363Z"
   },
   {
    "duration": 9,
    "start_time": "2023-11-15T10:55:53.380Z"
   },
   {
    "duration": 48,
    "start_time": "2023-11-15T10:55:53.391Z"
   },
   {
    "duration": 15,
    "start_time": "2023-11-15T10:55:53.445Z"
   },
   {
    "duration": 12,
    "start_time": "2023-11-15T10:55:53.463Z"
   },
   {
    "duration": 62,
    "start_time": "2023-11-15T10:55:53.477Z"
   },
   {
    "duration": 31,
    "start_time": "2023-11-15T10:55:53.549Z"
   },
   {
    "duration": 11,
    "start_time": "2023-11-15T10:55:53.585Z"
   },
   {
    "duration": 14,
    "start_time": "2023-11-15T10:55:53.599Z"
   },
   {
    "duration": 23,
    "start_time": "2023-11-15T10:55:53.614Z"
   },
   {
    "duration": 26,
    "start_time": "2023-11-15T10:55:53.646Z"
   },
   {
    "duration": 282,
    "start_time": "2023-11-15T10:55:53.674Z"
   },
   {
    "duration": 13,
    "start_time": "2023-11-15T10:55:53.958Z"
   },
   {
    "duration": 29,
    "start_time": "2023-11-15T10:55:53.972Z"
   },
   {
    "duration": 21,
    "start_time": "2023-11-15T10:55:54.003Z"
   },
   {
    "duration": 33,
    "start_time": "2023-11-15T10:55:54.026Z"
   },
   {
    "duration": 39,
    "start_time": "2023-11-15T10:55:54.061Z"
   },
   {
    "duration": 10,
    "start_time": "2023-11-15T10:55:54.102Z"
   },
   {
    "duration": 35,
    "start_time": "2023-11-15T10:55:54.113Z"
   },
   {
    "duration": 12,
    "start_time": "2023-11-15T10:55:54.150Z"
   },
   {
    "duration": 28,
    "start_time": "2023-11-15T10:55:54.163Z"
   },
   {
    "duration": 24,
    "start_time": "2023-11-15T10:55:54.192Z"
   },
   {
    "duration": 20,
    "start_time": "2023-11-15T10:55:54.218Z"
   },
   {
    "duration": 14,
    "start_time": "2023-11-15T10:55:54.239Z"
   },
   {
    "duration": 17,
    "start_time": "2023-11-15T10:55:54.255Z"
   },
   {
    "duration": 16,
    "start_time": "2023-11-15T10:55:54.273Z"
   },
   {
    "duration": 5,
    "start_time": "2023-11-15T10:55:54.291Z"
   },
   {
    "duration": 157,
    "start_time": "2023-11-15T10:55:54.298Z"
   },
   {
    "duration": 12,
    "start_time": "2023-11-15T10:55:54.457Z"
   },
   {
    "duration": 7,
    "start_time": "2023-11-15T10:55:54.471Z"
   },
   {
    "duration": 84,
    "start_time": "2023-11-15T10:55:54.479Z"
   },
   {
    "duration": 7,
    "start_time": "2023-11-15T10:55:54.565Z"
   },
   {
    "duration": 24,
    "start_time": "2023-11-15T10:55:54.573Z"
   },
   {
    "duration": 46,
    "start_time": "2023-11-15T10:55:54.599Z"
   },
   {
    "duration": 17,
    "start_time": "2023-11-15T10:55:54.646Z"
   },
   {
    "duration": 134,
    "start_time": "2023-11-15T10:55:54.664Z"
   },
   {
    "duration": 174,
    "start_time": "2023-11-15T10:55:54.800Z"
   },
   {
    "duration": 27,
    "start_time": "2023-11-15T10:55:54.976Z"
   },
   {
    "duration": 27,
    "start_time": "2023-11-15T10:55:55.005Z"
   },
   {
    "duration": 20,
    "start_time": "2023-11-15T10:55:55.037Z"
   },
   {
    "duration": 111,
    "start_time": "2023-11-15T10:55:55.059Z"
   },
   {
    "duration": 965,
    "start_time": "2023-11-16T04:59:31.037Z"
   },
   {
    "duration": 82,
    "start_time": "2023-11-16T04:59:32.004Z"
   },
   {
    "duration": 4,
    "start_time": "2023-11-16T04:59:32.088Z"
   },
   {
    "duration": 34,
    "start_time": "2023-11-16T04:59:32.094Z"
   },
   {
    "duration": 35,
    "start_time": "2023-11-16T04:59:32.130Z"
   },
   {
    "duration": 33,
    "start_time": "2023-11-16T04:59:32.168Z"
   },
   {
    "duration": 24,
    "start_time": "2023-11-16T04:59:32.202Z"
   },
   {
    "duration": 20,
    "start_time": "2023-11-16T04:59:32.228Z"
   },
   {
    "duration": 123,
    "start_time": "2023-11-16T04:59:32.249Z"
   },
   {
    "duration": 0,
    "start_time": "2023-11-16T04:59:32.381Z"
   },
   {
    "duration": 0,
    "start_time": "2023-11-16T04:59:32.382Z"
   },
   {
    "duration": 0,
    "start_time": "2023-11-16T04:59:32.383Z"
   },
   {
    "duration": 0,
    "start_time": "2023-11-16T04:59:32.384Z"
   },
   {
    "duration": 0,
    "start_time": "2023-11-16T04:59:32.385Z"
   },
   {
    "duration": 0,
    "start_time": "2023-11-16T04:59:32.386Z"
   },
   {
    "duration": 0,
    "start_time": "2023-11-16T04:59:32.387Z"
   },
   {
    "duration": 0,
    "start_time": "2023-11-16T04:59:32.388Z"
   },
   {
    "duration": 0,
    "start_time": "2023-11-16T04:59:32.389Z"
   },
   {
    "duration": 0,
    "start_time": "2023-11-16T04:59:32.390Z"
   },
   {
    "duration": 0,
    "start_time": "2023-11-16T04:59:32.391Z"
   },
   {
    "duration": 0,
    "start_time": "2023-11-16T04:59:32.392Z"
   },
   {
    "duration": 0,
    "start_time": "2023-11-16T04:59:32.393Z"
   },
   {
    "duration": 1,
    "start_time": "2023-11-16T04:59:32.394Z"
   },
   {
    "duration": 1,
    "start_time": "2023-11-16T04:59:32.396Z"
   },
   {
    "duration": 0,
    "start_time": "2023-11-16T04:59:32.398Z"
   },
   {
    "duration": 0,
    "start_time": "2023-11-16T04:59:32.399Z"
   },
   {
    "duration": 0,
    "start_time": "2023-11-16T04:59:32.400Z"
   },
   {
    "duration": 0,
    "start_time": "2023-11-16T04:59:32.401Z"
   },
   {
    "duration": 0,
    "start_time": "2023-11-16T04:59:32.402Z"
   },
   {
    "duration": 0,
    "start_time": "2023-11-16T04:59:32.403Z"
   },
   {
    "duration": 0,
    "start_time": "2023-11-16T04:59:32.404Z"
   },
   {
    "duration": 0,
    "start_time": "2023-11-16T04:59:32.405Z"
   },
   {
    "duration": 0,
    "start_time": "2023-11-16T04:59:32.406Z"
   },
   {
    "duration": 0,
    "start_time": "2023-11-16T04:59:32.407Z"
   },
   {
    "duration": 0,
    "start_time": "2023-11-16T04:59:32.408Z"
   },
   {
    "duration": 0,
    "start_time": "2023-11-16T04:59:32.409Z"
   },
   {
    "duration": 0,
    "start_time": "2023-11-16T04:59:32.410Z"
   },
   {
    "duration": 0,
    "start_time": "2023-11-16T04:59:32.411Z"
   },
   {
    "duration": 0,
    "start_time": "2023-11-16T04:59:32.412Z"
   },
   {
    "duration": 0,
    "start_time": "2023-11-16T04:59:32.413Z"
   },
   {
    "duration": 0,
    "start_time": "2023-11-16T04:59:32.465Z"
   },
   {
    "duration": 0,
    "start_time": "2023-11-16T04:59:32.467Z"
   },
   {
    "duration": 0,
    "start_time": "2023-11-16T04:59:32.468Z"
   },
   {
    "duration": 0,
    "start_time": "2023-11-16T04:59:32.469Z"
   },
   {
    "duration": 0,
    "start_time": "2023-11-16T04:59:32.472Z"
   },
   {
    "duration": 0,
    "start_time": "2023-11-16T04:59:32.474Z"
   },
   {
    "duration": 0,
    "start_time": "2023-11-16T04:59:32.476Z"
   },
   {
    "duration": 0,
    "start_time": "2023-11-16T04:59:32.478Z"
   },
   {
    "duration": 0,
    "start_time": "2023-11-16T04:59:32.479Z"
   },
   {
    "duration": 0,
    "start_time": "2023-11-16T04:59:32.481Z"
   },
   {
    "duration": 0,
    "start_time": "2023-11-16T04:59:32.482Z"
   },
   {
    "duration": 0,
    "start_time": "2023-11-16T04:59:32.484Z"
   },
   {
    "duration": 0,
    "start_time": "2023-11-16T04:59:32.485Z"
   },
   {
    "duration": 0,
    "start_time": "2023-11-16T04:59:32.486Z"
   },
   {
    "duration": 0,
    "start_time": "2023-11-16T04:59:32.487Z"
   },
   {
    "duration": 0,
    "start_time": "2023-11-16T04:59:32.488Z"
   },
   {
    "duration": 0,
    "start_time": "2023-11-16T04:59:32.489Z"
   },
   {
    "duration": 0,
    "start_time": "2023-11-16T04:59:32.490Z"
   },
   {
    "duration": 0,
    "start_time": "2023-11-16T04:59:32.491Z"
   },
   {
    "duration": 0,
    "start_time": "2023-11-16T04:59:32.492Z"
   },
   {
    "duration": 0,
    "start_time": "2023-11-16T04:59:32.493Z"
   },
   {
    "duration": 0,
    "start_time": "2023-11-16T04:59:32.494Z"
   },
   {
    "duration": 0,
    "start_time": "2023-11-16T04:59:32.496Z"
   },
   {
    "duration": 0,
    "start_time": "2023-11-16T04:59:32.497Z"
   },
   {
    "duration": 0,
    "start_time": "2023-11-16T04:59:32.498Z"
   },
   {
    "duration": 955,
    "start_time": "2023-11-21T15:03:20.491Z"
   },
   {
    "duration": 44,
    "start_time": "2023-11-21T15:03:21.448Z"
   },
   {
    "duration": 5,
    "start_time": "2023-11-21T15:03:21.493Z"
   },
   {
    "duration": 6,
    "start_time": "2023-11-21T15:03:21.500Z"
   },
   {
    "duration": 7,
    "start_time": "2023-11-21T15:03:21.507Z"
   },
   {
    "duration": 5,
    "start_time": "2023-11-21T15:03:21.516Z"
   },
   {
    "duration": 18,
    "start_time": "2023-11-21T15:03:21.523Z"
   },
   {
    "duration": 9,
    "start_time": "2023-11-21T15:03:21.543Z"
   },
   {
    "duration": 100,
    "start_time": "2023-11-21T15:03:21.554Z"
   },
   {
    "duration": 0,
    "start_time": "2023-11-21T15:03:21.658Z"
   },
   {
    "duration": 0,
    "start_time": "2023-11-21T15:03:21.660Z"
   },
   {
    "duration": 0,
    "start_time": "2023-11-21T15:03:21.661Z"
   },
   {
    "duration": 0,
    "start_time": "2023-11-21T15:03:21.662Z"
   },
   {
    "duration": 0,
    "start_time": "2023-11-21T15:03:21.664Z"
   },
   {
    "duration": 0,
    "start_time": "2023-11-21T15:03:21.665Z"
   },
   {
    "duration": 0,
    "start_time": "2023-11-21T15:03:21.666Z"
   },
   {
    "duration": 0,
    "start_time": "2023-11-21T15:03:21.668Z"
   },
   {
    "duration": 0,
    "start_time": "2023-11-21T15:03:21.669Z"
   },
   {
    "duration": 0,
    "start_time": "2023-11-21T15:03:21.670Z"
   },
   {
    "duration": 0,
    "start_time": "2023-11-21T15:03:21.671Z"
   },
   {
    "duration": 0,
    "start_time": "2023-11-21T15:03:21.673Z"
   },
   {
    "duration": 0,
    "start_time": "2023-11-21T15:03:21.674Z"
   },
   {
    "duration": 0,
    "start_time": "2023-11-21T15:03:21.675Z"
   },
   {
    "duration": 0,
    "start_time": "2023-11-21T15:03:21.676Z"
   },
   {
    "duration": 0,
    "start_time": "2023-11-21T15:03:21.677Z"
   },
   {
    "duration": 0,
    "start_time": "2023-11-21T15:03:21.678Z"
   },
   {
    "duration": 0,
    "start_time": "2023-11-21T15:03:21.680Z"
   },
   {
    "duration": 0,
    "start_time": "2023-11-21T15:03:21.681Z"
   },
   {
    "duration": 0,
    "start_time": "2023-11-21T15:03:21.682Z"
   },
   {
    "duration": 0,
    "start_time": "2023-11-21T15:03:21.683Z"
   },
   {
    "duration": 0,
    "start_time": "2023-11-21T15:03:21.684Z"
   },
   {
    "duration": 0,
    "start_time": "2023-11-21T15:03:21.685Z"
   },
   {
    "duration": 1,
    "start_time": "2023-11-21T15:03:21.686Z"
   },
   {
    "duration": 0,
    "start_time": "2023-11-21T15:03:21.688Z"
   },
   {
    "duration": 0,
    "start_time": "2023-11-21T15:03:21.691Z"
   },
   {
    "duration": 0,
    "start_time": "2023-11-21T15:03:21.692Z"
   },
   {
    "duration": 0,
    "start_time": "2023-11-21T15:03:21.693Z"
   },
   {
    "duration": 0,
    "start_time": "2023-11-21T15:03:21.695Z"
   },
   {
    "duration": 0,
    "start_time": "2023-11-21T15:03:21.697Z"
   },
   {
    "duration": 0,
    "start_time": "2023-11-21T15:03:21.698Z"
   },
   {
    "duration": 0,
    "start_time": "2023-11-21T15:03:21.758Z"
   },
   {
    "duration": 0,
    "start_time": "2023-11-21T15:03:21.759Z"
   },
   {
    "duration": 0,
    "start_time": "2023-11-21T15:03:21.760Z"
   },
   {
    "duration": 0,
    "start_time": "2023-11-21T15:03:21.761Z"
   },
   {
    "duration": 0,
    "start_time": "2023-11-21T15:03:21.763Z"
   },
   {
    "duration": 0,
    "start_time": "2023-11-21T15:03:21.763Z"
   },
   {
    "duration": 0,
    "start_time": "2023-11-21T15:03:21.764Z"
   },
   {
    "duration": 0,
    "start_time": "2023-11-21T15:03:21.765Z"
   },
   {
    "duration": 0,
    "start_time": "2023-11-21T15:03:21.766Z"
   },
   {
    "duration": 0,
    "start_time": "2023-11-21T15:03:21.767Z"
   },
   {
    "duration": 0,
    "start_time": "2023-11-21T15:03:21.769Z"
   },
   {
    "duration": 0,
    "start_time": "2023-11-21T15:03:21.770Z"
   },
   {
    "duration": 0,
    "start_time": "2023-11-21T15:03:21.771Z"
   },
   {
    "duration": 0,
    "start_time": "2023-11-21T15:03:21.772Z"
   },
   {
    "duration": 0,
    "start_time": "2023-11-21T15:03:21.773Z"
   },
   {
    "duration": 0,
    "start_time": "2023-11-21T15:03:21.774Z"
   },
   {
    "duration": 0,
    "start_time": "2023-11-21T15:03:21.775Z"
   },
   {
    "duration": 0,
    "start_time": "2023-11-21T15:03:21.775Z"
   },
   {
    "duration": 0,
    "start_time": "2023-11-21T15:03:21.776Z"
   },
   {
    "duration": 0,
    "start_time": "2023-11-21T15:03:21.777Z"
   },
   {
    "duration": 0,
    "start_time": "2023-11-21T15:03:21.778Z"
   },
   {
    "duration": 0,
    "start_time": "2023-11-21T15:03:21.780Z"
   },
   {
    "duration": 0,
    "start_time": "2023-11-21T15:03:21.781Z"
   },
   {
    "duration": 0,
    "start_time": "2023-11-21T15:03:21.781Z"
   },
   {
    "duration": 0,
    "start_time": "2023-11-21T15:03:21.783Z"
   },
   {
    "duration": 185,
    "start_time": "2023-11-21T15:04:01.362Z"
   },
   {
    "duration": 4,
    "start_time": "2023-11-21T15:04:03.954Z"
   },
   {
    "duration": 4,
    "start_time": "2023-11-21T15:04:04.027Z"
   },
   {
    "duration": 3,
    "start_time": "2023-11-21T15:04:04.079Z"
   },
   {
    "duration": 3,
    "start_time": "2023-11-21T15:04:04.137Z"
   },
   {
    "duration": 3,
    "start_time": "2023-11-21T15:04:04.208Z"
   },
   {
    "duration": 7,
    "start_time": "2023-11-21T15:04:04.287Z"
   },
   {
    "duration": 512,
    "start_time": "2023-11-21T15:04:04.405Z"
   },
   {
    "duration": 8,
    "start_time": "2023-11-21T15:04:04.919Z"
   },
   {
    "duration": 63,
    "start_time": "2023-11-21T15:04:04.928Z"
   },
   {
    "duration": 35,
    "start_time": "2023-11-21T15:04:04.992Z"
   },
   {
    "duration": 6,
    "start_time": "2023-11-21T15:04:05.059Z"
   },
   {
    "duration": 10,
    "start_time": "2023-11-21T15:04:05.077Z"
   },
   {
    "duration": 5,
    "start_time": "2023-11-21T15:04:05.108Z"
   },
   {
    "duration": 9,
    "start_time": "2023-11-21T15:04:05.225Z"
   },
   {
    "duration": 10,
    "start_time": "2023-11-21T15:04:05.300Z"
   },
   {
    "duration": 7,
    "start_time": "2023-11-21T15:04:05.377Z"
   },
   {
    "duration": 8,
    "start_time": "2023-11-21T15:04:05.548Z"
   },
   {
    "duration": 8,
    "start_time": "2023-11-21T15:04:05.671Z"
   },
   {
    "duration": 390,
    "start_time": "2023-11-21T15:04:05.695Z"
   },
   {
    "duration": 14,
    "start_time": "2023-11-21T15:04:06.087Z"
   },
   {
    "duration": 9,
    "start_time": "2023-11-21T15:04:06.102Z"
   },
   {
    "duration": 5,
    "start_time": "2023-11-21T15:04:06.112Z"
   },
   {
    "duration": 47,
    "start_time": "2023-11-21T15:04:06.119Z"
   },
   {
    "duration": 6,
    "start_time": "2023-11-21T15:04:06.190Z"
   },
   {
    "duration": 10,
    "start_time": "2023-11-21T15:04:06.288Z"
   },
   {
    "duration": 5,
    "start_time": "2023-11-21T15:04:06.319Z"
   },
   {
    "duration": 3,
    "start_time": "2023-11-21T15:04:06.551Z"
   },
   {
    "duration": 4,
    "start_time": "2023-11-21T15:04:06.583Z"
   },
   {
    "duration": 4,
    "start_time": "2023-11-21T15:04:06.815Z"
   },
   {
    "duration": 21,
    "start_time": "2023-11-21T15:04:06.964Z"
   },
   {
    "duration": 279,
    "start_time": "2023-11-21T15:04:07.208Z"
   },
   {
    "duration": 12,
    "start_time": "2023-11-21T15:04:07.488Z"
   },
   {
    "duration": 4,
    "start_time": "2023-11-21T15:04:07.501Z"
   },
   {
    "duration": 5,
    "start_time": "2023-11-21T15:04:07.507Z"
   },
   {
    "duration": 10,
    "start_time": "2023-11-21T15:04:07.513Z"
   },
   {
    "duration": 10,
    "start_time": "2023-11-21T15:04:07.627Z"
   },
   {
    "duration": 7,
    "start_time": "2023-11-21T15:04:07.674Z"
   },
   {
    "duration": 82,
    "start_time": "2023-11-21T15:04:07.735Z"
   },
   {
    "duration": 16,
    "start_time": "2023-11-21T15:04:07.955Z"
   },
   {
    "duration": 5,
    "start_time": "2023-11-21T15:04:08.223Z"
   },
   {
    "duration": 18,
    "start_time": "2023-11-21T15:04:08.269Z"
   },
   {
    "duration": 11,
    "start_time": "2023-11-21T15:04:08.297Z"
   },
   {
    "duration": 12,
    "start_time": "2023-11-21T15:04:08.339Z"
   },
   {
    "duration": 12,
    "start_time": "2023-11-21T15:04:08.378Z"
   },
   {
    "duration": 16,
    "start_time": "2023-11-21T15:04:08.552Z"
   },
   {
    "duration": 10,
    "start_time": "2023-11-21T15:04:08.764Z"
   },
   {
    "duration": 26,
    "start_time": "2023-11-21T15:04:08.775Z"
   },
   {
    "duration": 8,
    "start_time": "2023-11-21T15:04:08.907Z"
   },
   {
    "duration": 6,
    "start_time": "2023-11-21T15:04:08.956Z"
   },
   {
    "duration": 53,
    "start_time": "2023-11-21T15:04:08.976Z"
   },
   {
    "duration": 13,
    "start_time": "2023-11-21T15:04:09.058Z"
   },
   {
    "duration": 5,
    "start_time": "2023-11-21T15:04:09.202Z"
   },
   {
    "duration": 55,
    "start_time": "2023-11-21T15:04:09.350Z"
   },
   {
    "duration": 4,
    "start_time": "2023-11-21T15:04:09.524Z"
   },
   {
    "duration": 24,
    "start_time": "2023-11-21T15:04:09.817Z"
   },
   {
    "duration": 11,
    "start_time": "2023-11-21T15:04:09.863Z"
   },
   {
    "duration": 17,
    "start_time": "2023-11-21T15:04:10.223Z"
   },
   {
    "duration": 147,
    "start_time": "2023-11-21T15:04:10.245Z"
   },
   {
    "duration": 75,
    "start_time": "2023-11-21T15:04:10.479Z"
   },
   {
    "duration": 25,
    "start_time": "2023-11-21T15:04:10.556Z"
   },
   {
    "duration": 46,
    "start_time": "2023-11-21T15:04:10.582Z"
   },
   {
    "duration": 16,
    "start_time": "2023-11-21T15:04:10.775Z"
   },
   {
    "duration": 94,
    "start_time": "2023-11-21T15:04:10.818Z"
   }
  ],
  "kernelspec": {
   "display_name": "Python 3 (ipykernel)",
   "language": "python",
   "name": "python3"
  },
  "language_info": {
   "codemirror_mode": {
    "name": "ipython",
    "version": 3
   },
   "file_extension": ".py",
   "mimetype": "text/x-python",
   "name": "python",
   "nbconvert_exporter": "python",
   "pygments_lexer": "ipython3",
   "version": "3.10.9"
  },
  "toc": {
   "base_numbering": 1,
   "nav_menu": {},
   "number_sections": true,
   "sideBar": true,
   "skip_h1_title": true,
   "title_cell": "Table of Contents",
   "title_sidebar": "Contents",
   "toc_cell": false,
   "toc_position": {
    "height": "calc(100% - 180px)",
    "left": "10px",
    "top": "150px",
    "width": "630.747px"
   },
   "toc_section_display": true,
   "toc_window_display": true
  }
 },
 "nbformat": 4,
 "nbformat_minor": 5
}
